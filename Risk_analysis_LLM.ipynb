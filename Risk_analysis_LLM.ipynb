{
 "cells": [
  {
   "cell_type": "code",
   "execution_count": 1,
   "id": "dd90a5f7",
   "metadata": {},
   "outputs": [
    {
     "name": "stdout",
     "output_type": "stream",
     "text": [
      "hello\n"
     ]
    }
   ],
   "source": [
    "print(\"hello\")"
   ]
  },
  {
   "cell_type": "markdown",
   "id": "ae495b9e",
   "metadata": {},
   "source": [
    "## project started \n",
    "Demo time"
   ]
  },
  {
   "cell_type": "code",
   "execution_count": null,
   "id": "c0b4bade",
   "metadata": {},
   "outputs": [],
   "source": [
    "import os\n",
    "import requests\n",
    "from dotenv import load_dotenv\n",
    "\n",
    "from IPython.display import Markdown, display\n",
    "from openai import OpenAI\n",
    "\n",
    "from langchain_chroma import Chroma\n",
    "from langchain_openai import OpenAIEmbeddings"
   ]
  },
  {
   "cell_type": "code",
   "execution_count": 3,
   "id": "4627b4f6",
   "metadata": {},
   "outputs": [
    {
     "name": "stdout",
     "output_type": "stream",
     "text": [
      "API key found and looks good so far!\n"
     ]
    }
   ],
   "source": [
    "load_dotenv(override=True)\n",
    "api_key = os.getenv('OPENAI_API_KEY')\n",
    "\n",
    "# Check the key\n",
    "\n",
    "if not api_key:\n",
    "    print(\"No API key was found - please head over to the troubleshooting notebook in this folder to identify & fix!\")\n",
    "elif not api_key.startswith(\"sk-proj-\"):\n",
    "    print(\"An API key was found, but it doesn't start sk-proj-; please check you're using the right key - see troubleshooting notebook\")\n",
    "elif api_key.strip() != api_key:\n",
    "    print(\"An API key was found, but it looks like it might have space or tab characters at the start or end - please remove them - see troubleshooting notebook\")\n",
    "else:\n",
    "    print(\"API key found and looks good so far!\")\n"
   ]
  },
  {
   "cell_type": "code",
   "execution_count": 4,
   "id": "9342d1f1",
   "metadata": {},
   "outputs": [],
   "source": [
    "model=\"gpt-4o-mini\"\n",
    "openai = OpenAI()"
   ]
  },
  {
   "cell_type": "code",
   "execution_count": 5,
   "id": "4e2c86f7",
   "metadata": {},
   "outputs": [],
   "source": [
    "system_prompt = \"\"\"\n",
    "You are an expert disaster risk advisor specializing in cloudburst and flood events.\n",
    "You will analyze weather and terrain conditions (rainfall, humidity, pressure, soil moisture, slope, river proximity, etc.)\n",
    "and assess the likelihood of floods.\n",
    "\n",
    "Your response must always include:\n",
    "1. Flood Risk Level → Low / Moderate / High / Severe\n",
    "2. Cloudburst Probability → Yes / No with reasoning\n",
    "3. Key Factors → List the main conditions driving the assessment\n",
    "4. Recommendations → Clear and actionable steps for residents and authorities\n",
    "\n",
    "Keep the language simple and practical so that even non-technical people can understand.\n",
    "\"\"\"\n"
   ]
  },
  {
   "cell_type": "code",
   "execution_count": null,
   "id": "1d5947f6",
   "metadata": {},
   "outputs": [],
   "source": [
    "\n"
   ]
  },
  {
   "cell_type": "code",
   "execution_count": null,
   "id": "d577e236",
   "metadata": {},
   "outputs": [],
   "source": [
    "messages = [\n",
    "    {\"role\": \"system\", \"content\": system_prompt},\n",
    "    {\"role\": \"user\", \"content\": user_prompt}\n",
    "]"
   ]
  },
  {
   "cell_type": "code",
   "execution_count": 8,
   "id": "ad352a5d",
   "metadata": {},
   "outputs": [],
   "source": [
    "def call_gpt(messages):\n",
    "    response = openai.chat.completions.create(model=model, messages=messages)\n",
    "    print(response.choices[0].message.content)"
   ]
  },
  {
   "cell_type": "code",
   "execution_count": 1,
   "id": "9bcae297",
   "metadata": {},
   "outputs": [],
   "source": [
    "def setup_vectorstore(db_name=\"vector_db\"):\n",
    "    \"\"\"Setup connection to existing vector database\"\"\"\n",
    "    try:\n",
    "        embeddings = OpenAIEmbeddings()\n",
    "        vectorstore = Chroma(\n",
    "            persist_directory=db_name, \n",
    "            embedding_function=embeddings\n",
    "        )\n",
    "        print(f\"Connected to vector database with {vectorstore._collection.count()} documents\")\n",
    "        return vectorstore\n",
    "    except Exception as e:\n",
    "        print(f\"Error connecting to vector database: {e}\")\n",
    "        return None\n"
   ]
  },
  {
   "cell_type": "code",
   "execution_count": null,
   "id": "00a09757",
   "metadata": {},
   "outputs": [],
   "source": [
    "\n",
    "def get_relevant_context(vectorstore, query, k=3):\n",
    "    \"\"\"Get relevant documents from vector database\"\"\"\n",
    "    if vectorstore is None:\n",
    "        return \"\"\n",
    "    \n",
    "    try:\n",
    "        docs = vectorstore.similarity_search(query, k=k)\n",
    "        \n",
    "        context = \"\\n\\nRELEVANT CONTEXT FROM KNOWLEDGE BASE:\\n\"\n",
    "        for i, doc in enumerate(docs, 1):\n",
    "            doc_type = doc.metadata.get('doc_type', 'Unknown')\n",
    "            context += f\"\\n{i}. From {doc_type}:\\n{doc.page_content[:400]}...\\n\"\n",
    "        print(context)\n",
    "        return context\n",
    "    except Exception as e:\n",
    "        print(f\"Error retrieving context: {e}\")\n",
    "        return \"\""
   ]
  },
  {
   "cell_type": "code",
   "execution_count": null,
   "id": "db7d82f8",
   "metadata": {},
   "outputs": [],
   "source": [
    "def create_enhanced_system_prompt():\n",
    "    return \"\"\"\n",
    "    You are an expert disaster risk advisor specializing in cloudburst and flood events in Uttarakhand, India.\n",
    "    You will analyze weather and terrain conditions along with relevant historical and geographical context.\n",
    "    \n",
    "    Use the provided context from the knowledge base and calculated fvi to inform your risk assessment.\n",
    "    Reference specific historical events, geographical characteristics, and past patterns when relevant.\n",
    "    \n",
    "    Your response must always include:\n",
    "    1. Flood Risk Level → Low / Moderate / High / Severe\n",
    "    2. Cloudburst Probability → Yes / No with reasoning\n",
    "    3. Key Factors → List the main conditions driving the assessment\n",
    "    4. Historical/Geographical Context → Reference relevant information from the knowledge base\n",
    "    5. Recommendations → Clear and actionable steps for residents and authorities\n",
    "    6. Fufure prediction report\n",
    "    \n",
    "    Keep the language simple and practical so that even non-technical people can understand.\n",
    "    \"\"\""
   ]
  },
  {
   "cell_type": "code",
   "execution_count": null,
   "id": "f71433e2",
   "metadata": {},
   "outputs": [],
   "source": [
    "def user_prompt(FVI,RAG):\n",
    "    user = \"Here are the observed conditions:\"+\\\n",
    "    \"Location detail and FVI calculate: \"+FVI\\\n",
    "    +\"Question: Is there a chance of flood or cloudburst, and what should residents and authorities do? make me a full report \"\\\n",
    "    \"Rag context for perticular location or situation: \"+RAG\n",
    "    return user\n"
   ]
  },
  {
   "cell_type": "code",
   "execution_count": null,
   "id": "932e5680",
   "metadata": {},
   "outputs": [],
   "source": [
    "def call_gpt_with_context(messages, vectorstore=None, location=None):\n",
    "    \"\"\"Call GPT with contextual information from vector database\"\"\"\n",
    "    \n",
    "    # Extract user prompt for context search\n",
    "    user_content = None\n",
    "    for msg in messages:\n",
    "        if msg[\"role\"] == \"user\":\n",
    "            user_content = msg[\"content\"]\n",
    "            break\n",
    "    \n",
    "    # Get relevant context\n",
    "    if vectorstore and user_content:\n",
    "        search_query = user_content\n",
    "        if location:\n",
    "            search_query = f\"{location} {search_query}\"\n",
    "        \n",
    "        context = get_relevant_context(vectorstore, search_query)\n",
    "        \n",
    "        # Add context to user message\n",
    "        for msg in messages:\n",
    "            if msg[\"role\"] == \"user\":\n",
    "                msg[\"content\"] = msg[\"content\"] + context\n",
    "                break\n",
    "    \n",
    "    # Call GPT\n",
    "    response = openai.chat.completions.create(model=model, messages=messages)\n",
    "    return response.choices[0].message.content"
   ]
  },
  {
   "cell_type": "code",
   "execution_count": null,
   "id": "ff893f06",
   "metadata": {},
   "outputs": [
    {
     "name": "stdout",
     "output_type": "stream",
     "text": [
      "Connected to vector database with 135 documents\n",
      "=== ENHANCED RISK ANALYSIS WITH CONTEXT ===\n",
      "1. **Flood Risk Level**: **Severe**  \n",
      "   The observed and forecasted rainfall levels, high soil moisture, and steep slopes create conditions conducive to severe flooding.\n",
      "\n",
      "2. **Cloudburst Probability**: **Yes**  \n",
      "   The combination of high rainfall (120 mm in the last 24h, with an additional 80 mm forecast), steep slopes, and moist soil conditions significantly increases the likelihood of a cloudburst event. The high cloud cover (95%) further supports this risk.\n",
      "\n",
      "3. **Key Factors**:  \n",
      "   - Recent rainfall accumulation (120 mm in 24h).\n",
      "   - High forecast rainfall (80 mm in the next 6h).\n",
      "   - High soil moisture (85%).\n",
      "   - Steep terrain, increasing runoff.\n",
      "   - Proximity to river, only 200 m away, with high flow rates.\n",
      "\n",
      "4. **Historical/Geographical Context**:  \n",
      "   Uttarkashi district is recognized as a high-risk area for cloudbursts due to its complex topography and significant variations in rainfall patterns. Historically, the region has experienced devastating floods and landslides following intense precipitation events, particularly during monsoon seasons. This district often exhibits rapid fluctuations in weather, amplifying the risk of sudden and extreme rainfall events.\n",
      "\n",
      "5. **Recommendations**:  \n",
      "   - **Residents**: \n",
      "     - Move to higher ground immediately. Avoid staying near rivers or low-lying areas.\n",
      "     - Prepare emergency kits with essential supplies, food, water, and first-aid items.\n",
      "     - Monitor local news for updates on weather conditions and evacuation orders.\n",
      "     - Keep communication devices charged and close at hand to receive warnings.\n",
      "\n",
      "   - **Authorities**: \n",
      "     - Issue real-time warnings and alerts to residents, especially in flood-prone zones.\n",
      "     - Mobilize emergency response teams and ensure they are prepared to assist those in danger.\n",
      "     - Set up temporary shelters in safer areas and provide evacuation routes to the public.\n",
      "     - Conduct a risk assessment of critical infrastructure (roads, bridges) and prepare for potential damage assessments post-event.\n",
      "=== DISTRICT INFORMATION ===\n",
      "=== RUDRAPRAYAG DISTRICT INFORMATION ===\n",
      "\n",
      "1. Rudraprayag:\n",
      "## Critical Risk Designation\n",
      "\n",
      "Rudraprayag district holds the distinction of being classified by the Indian Space Research Organization as the most landslide-prone district in India, a designation that reflects its extraordinary combination of geological instability, extreme topography, and climatic ...\n",
      "\n",
      "2. Rudraprayag:\n",
      "## Extreme Topographical Vulnerability\n",
      "\n",
      "The topographical characteristics of Rudraprayag district represent perhaps the most challenging combination of slope instability and hydrological vulnerability found anywhere in the Himalayas. Slope distribution analysis reveals that 35% of the district consi...\n",
      "\n",
      "3. Rudraprayag:\n",
      "## Geological Instability\n",
      "\n",
      "\n",
      "The geological foundation of Rudraprayag district represents one of the most unstable and hazardous combinations of rock types, structural features, and weathering conditions found anywhere in the Himalayas. The dominant rock formations belong to the Garhwal Group, consis...\n",
      "\n",
      "4. Rudraprayag:\n",
      "## Predictive Model Parameters\n",
      "\n",
      "The development of predictive models for extreme events in Rudraprayag district has been informed by detailed analysis of the 2013 Kedarnath disaster and subsequent research into the physical processes that control cascading hazard development. Critical rainfall thres...\n",
      "\n",
      "5. Champawat:\n",
      "The Ram Ganga River acts as a border between Champawat and Pithoragarh districts, creating important hydrological boundaries that influence flood risk patterns and water resource availability. The river systems in the district exhibit typical Himalayan characteristics with seasonal flow variations a...\n",
      "\n",
      "\n"
     ]
    }
   ],
   "source": [
    "\n",
    "\n",
    "\n",
    "\n",
    "\n",
    "\n",
    "\n",
    "\n",
    "\n",
    "# Initialize vector database connection\n",
    "vectorstore = setup_vectorstore(\"vector_db\")\n",
    "\n",
    "# Update your system prompt\n",
    "enhanced_system_prompt = create_enhanced_system_prompt()\n",
    "\n",
    "# Your existing user prompt with location information\n",
    "user_prompt_with_location = user_prompt(\"Weather\")\n",
    "\n",
    "# Create messages with enhanced system prompt\n",
    "enhanced_messages = [\n",
    "    {\"role\": \"system\", \"content\": enhanced_system_prompt},\n",
    "    {\"role\": \"user\", \"content\": user_prompt_with_location}\n",
    "]\n",
    "\n",
    "# Call with context\n",
    "print(\"=== ENHANCED RISK ANALYSIS WITH CONTEXT ===\")\n",
    "enhanced_result = call_gpt_with_context(enhanced_messages, vectorstore, \"Uttarkashi\")\n",
    "print(enhanced_result)\n",
    "\n",
    "# Cell 7: Function for quick district queries\n",
    "def query_district_info(district_name, vectorstore):\n",
    "    \"\"\"Quick function to get district-specific information\"\"\"\n",
    "    if not vectorstore:\n",
    "        return \"Vector database not available\"\n",
    "    \n",
    "    query = f\"{district_name} district characteristics risk factors historical events\"\n",
    "    docs = vectorstore.similarity_search(query, k=5)\n",
    "    \n",
    "    if not docs:\n",
    "        return f\"No information found for {district_name}\"\n",
    "    \n",
    "    result = f\"=== {district_name.upper()} DISTRICT INFORMATION ===\\n\\n\"\n",
    "    for i, doc in enumerate(docs, 1):\n",
    "        doc_type = doc.metadata.get('doc_type', 'Unknown')\n",
    "        result += f\"{i}. {doc_type}:\\n{doc.page_content[:300]}...\\n\\n\"\n",
    "    \n",
    "    return result\n",
    "\n",
    "# Cell 8: Example district query\n",
    "print(\"=== DISTRICT INFORMATION ===\")\n",
    "district_info = query_district_info(\"Rudraprayag\", vectorstore)\n",
    "print(district_info)"
   ]
  },
  {
   "cell_type": "code",
   "execution_count": null,
   "id": "cf091195",
   "metadata": {},
   "outputs": [],
   "source": []
  }
 ],
 "metadata": {
  "kernelspec": {
   "display_name": "venv",
   "language": "python",
   "name": "python3"
  },
  "language_info": {
   "codemirror_mode": {
    "name": "ipython",
    "version": 3
   },
   "file_extension": ".py",
   "mimetype": "text/x-python",
   "name": "python",
   "nbconvert_exporter": "python",
   "pygments_lexer": "ipython3",
   "version": "3.13.5"
  }
 },
 "nbformat": 4,
 "nbformat_minor": 5
}
