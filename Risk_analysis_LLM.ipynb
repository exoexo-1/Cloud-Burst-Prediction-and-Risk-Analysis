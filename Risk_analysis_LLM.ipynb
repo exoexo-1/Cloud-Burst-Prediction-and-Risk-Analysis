{
 "cells": [
  {
   "cell_type": "code",
   "execution_count": null,
   "id": "dd90a5f7",
   "metadata": {},
   "outputs": [
    {
     "name": "stdout",
     "output_type": "stream",
     "text": [
      "hello\n"
     ]
    }
   ],
   "source": [
    "print(\"hello\")"
   ]
  },
  {
   "cell_type": "code",
   "execution_count": null,
   "id": "e5c89a13",
   "metadata": {},
   "outputs": [],
   "source": []
  },
  {
   "cell_type": "code",
   "execution_count": null,
   "id": "cc8a4366",
   "metadata": {},
   "outputs": [],
   "source": []
  },
  {
   "cell_type": "markdown",
   "id": "ae495b9e",
   "metadata": {},
   "source": [
    "## project started \n",
    "Demo time"
   ]
  },
  {
   "cell_type": "code",
   "execution_count": 1,
   "id": "c0b4bade",
   "metadata": {},
   "outputs": [],
   "source": [
    "import os\n",
    "import requests\n",
    "from dotenv import load_dotenv\n",
    "\n",
    "from IPython.display import Markdown, display\n",
    "from openai import OpenAI"
   ]
  },
  {
   "cell_type": "code",
   "execution_count": null,
   "id": "4627b4f6",
   "metadata": {},
   "outputs": [
    {
     "name": "stdout",
     "output_type": "stream",
     "text": [
      "API key found and looks good so far!\n"
     ]
    }
   ],
   "source": [
    "load_dotenv(override=True)\n",
    "api_key = os.getenv('OPENAI_API_KEY')\n",
    "\n",
    "# Check the key\n",
    "\n",
    "if not api_key:\n",
    "    print(\"No API key was found - please head over to the troubleshooting notebook in this folder to identify & fix!\")\n",
    "elif not api_key.startswith(\"sk-proj-\"):\n",
    "    print(\"An API key was found, but it doesn't start sk-proj-; please check you're using the right key - see troubleshooting notebook\")\n",
    "elif api_key.strip() != api_key:\n",
    "    print(\"An API key was found, but it looks like it might have space or tab characters at the start or end - please remove them - see troubleshooting notebook\")\n",
    "else:\n",
    "    print(\"API key found and looks good so far!\")\n"
   ]
  },
  {
   "cell_type": "code",
   "execution_count": 4,
   "id": "9342d1f1",
   "metadata": {},
   "outputs": [],
   "source": [
    "model=\"gpt-4o-mini\"\n",
    "openai = OpenAI()"
   ]
  },
  {
   "cell_type": "code",
   "execution_count": 7,
   "id": "4e2c86f7",
   "metadata": {},
   "outputs": [],
   "source": [
    "system_prompt = \"\"\"\n",
    "You are an expert disaster risk advisor specializing in cloudburst and flood events.\n",
    "You will analyze weather and terrain conditions (rainfall, humidity, pressure, soil moisture, slope, river proximity, etc.)\n",
    "and assess the likelihood of floods.\n",
    "\n",
    "Your response must always include:\n",
    "1. Flood Risk Level → Low / Moderate / High / Severe\n",
    "2. Cloudburst Probability → Yes / No with reasoning\n",
    "3. Key Factors → List the main conditions driving the assessment\n",
    "4. Recommendations → Clear and actionable steps for residents and authorities\n",
    "\n",
    "Keep the language simple and practical so that even non-technical people can understand.\n",
    "\"\"\"\n"
   ]
  },
  {
   "cell_type": "code",
   "execution_count": null,
   "id": "1d5947f6",
   "metadata": {},
   "outputs": [],
   "source": [
    "user_prompt = \"\"\"\n",
    "Here are the observed conditions:\n",
    "\n",
    "- Rainfall last 24h: 120 mm\n",
    "- Forecast next 6h: 80 mm\n",
    "- Soil moisture: 85%\n",
    "- Slope: Steep\n",
    "- River proximity: 200 m\n",
    "- Flow rate: High\n",
    "- Pressure: 1005 hPa (falling)\n",
    "- Cloud cover: 95%\n",
    "\n",
    "Question: Is there a chance of flood or cloudburst, and what should residents and authorities do?\n",
    "\"\"\"\n",
    "    "
   ]
  },
  {
   "cell_type": "code",
   "execution_count": 9,
   "id": "d577e236",
   "metadata": {},
   "outputs": [],
   "source": [
    "messages = [\n",
    "    {\"role\": \"system\", \"content\": system_prompt},\n",
    "    {\"role\": \"user\", \"content\": user_prompt}\n",
    "]"
   ]
  },
  {
   "cell_type": "code",
   "execution_count": 10,
   "id": "ad352a5d",
   "metadata": {},
   "outputs": [],
   "source": [
    "def call_gpt(messages):\n",
    "    response = openai.chat.completions.create(model=model, messages=messages)\n",
    "    print(response.choices[0].message.content)"
   ]
  },
  {
   "cell_type": "code",
   "execution_count": null,
   "id": "11f194f7",
   "metadata": {},
   "outputs": [
    {
     "name": "stdout",
     "output_type": "stream",
     "text": [
      "1. **Flood Risk Level:** Severe\n",
      "\n",
      "2. **Cloudburst Probability:** Yes - The combination of very high rainfall in the last 24 hours (120 mm) and an additional forecast of 80 mm in the next 6 hours increases the likelihood of a cloudburst. Such intense precipitation can overwhelm the local drainage systems and lead to rapid flooding.\n",
      "\n",
      "3. **Key Factors:**\n",
      "   - Rainfall last 24h: 120 mm (very high)\n",
      "   - Forecast next 6h: 80 mm (additional heavy rain expected)\n",
      "   - Soil moisture: 85% (close to saturation, reducing absorption)\n",
      "   - Slope: Steep (increases runoff)\n",
      "   - River proximity: 200 m (potential for overflow)\n",
      "   - Flow rate: High (already fast-moving water can contribute to flooding)\n",
      "   - Pressure: 1005 hPa (falling pressure indicates unstable weather conditions)\n",
      "   - Cloud cover: 95% (indicates likelihood of continued rain)\n",
      "\n",
      "4. **Recommendations:**\n",
      "   - **For Residents:**\n",
      "     - Stay indoors and avoid unnecessary travel.\n",
      "     - Move valuables to higher ground and secure important documents.\n",
      "     - Monitor local news and weather updates for flood alerts.\n",
      "     - Prepare for potential evacuation, especially if you live near the river or in low-lying areas.\n",
      "\n",
      "   - **For Authorities:**\n",
      "     - Issue flood warnings to affected areas immediately.\n",
      "     - Ensure emergency services are on standby to respond to calls and evacuations.\n",
      "     - Check and clear drainage systems to facilitate water flow.\n",
      "     - Set up shelters for residents if flooding occurs.\n",
      "     - Prepare to close roads near riverbanks that may become flooded.\n",
      "\n",
      "Taking these steps can help minimize risk and ensure safety during this severe weather event.\n"
     ]
    }
   ],
   "source": [
    "#  trial\n",
    "call_gpt(messages)"
   ]
  }
 ],
 "metadata": {
  "kernelspec": {
   "display_name": "venv",
   "language": "python",
   "name": "python3"
  },
  "language_info": {
   "codemirror_mode": {
    "name": "ipython",
    "version": 3
   },
   "file_extension": ".py",
   "mimetype": "text/x-python",
   "name": "python",
   "nbconvert_exporter": "python",
   "pygments_lexer": "ipython3",
   "version": "3.13.5"
  }
 },
 "nbformat": 4,
 "nbformat_minor": 5
}
