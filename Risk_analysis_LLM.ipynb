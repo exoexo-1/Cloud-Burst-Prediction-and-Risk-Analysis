{
 "cells": [
  {
   "cell_type": "code",
   "execution_count": 15,
   "id": "dd90a5f7",
   "metadata": {},
   "outputs": [
    {
     "name": "stdout",
     "output_type": "stream",
     "text": [
      "hello\n"
     ]
    }
   ],
   "source": [
    "print(\"hello\")"
   ]
  },
  {
   "cell_type": "markdown",
   "id": "ae495b9e",
   "metadata": {},
   "source": [
    "## project started \n",
    "Demo time"
   ]
  },
  {
   "cell_type": "code",
   "execution_count": 16,
   "id": "c0b4bade",
   "metadata": {},
   "outputs": [],
   "source": [
    "import os\n",
    "import requests\n",
    "from dotenv import load_dotenv\n",
    "\n",
    "from IPython.display import Markdown, display\n",
    "from openai import OpenAI\n",
    "\n",
    "from langchain_chroma import Chroma\n",
    "from langchain_openai import OpenAIEmbeddings"
   ]
  },
  {
   "cell_type": "code",
   "execution_count": 17,
   "id": "4627b4f6",
   "metadata": {},
   "outputs": [
    {
     "name": "stdout",
     "output_type": "stream",
     "text": [
      "API key found and looks good so far!\n"
     ]
    }
   ],
   "source": [
    "load_dotenv(override=True)\n",
    "api_key = os.getenv('OPENAI_API_KEY')\n",
    "\n",
    "# Check the key\n",
    "\n",
    "if not api_key:\n",
    "    print(\"No API key was found - please head over to the troubleshooting notebook in this folder to identify & fix!\")\n",
    "elif not api_key.startswith(\"sk-proj-\"):\n",
    "    print(\"An API key was found, but it doesn't start sk-proj-; please check you're using the right key - see troubleshooting notebook\")\n",
    "elif api_key.strip() != api_key:\n",
    "    print(\"An API key was found, but it looks like it might have space or tab characters at the start or end - please remove them - see troubleshooting notebook\")\n",
    "else:\n",
    "    print(\"API key found and looks good so far!\")\n"
   ]
  },
  {
   "cell_type": "code",
   "execution_count": 18,
   "id": "9342d1f1",
   "metadata": {},
   "outputs": [],
   "source": [
    "model=\"gpt-4o-mini\"\n",
    "openai = OpenAI()"
   ]
  },
  {
   "cell_type": "code",
   "execution_count": 19,
   "id": "4e2c86f7",
   "metadata": {},
   "outputs": [],
   "source": [
    "system_prompt = \"\"\"\n",
    "You are an expert disaster risk advisor specializing in cloudburst and flood events.\n",
    "You will analyze weather and terrain conditions (rainfall, humidity, pressure, soil moisture, slope, river proximity, etc.)\n",
    "and assess the likelihood of floods.\n",
    "\n",
    "Your response must always include:\n",
    "1. Flood Risk Level → Low / Moderate / High / Severe\n",
    "2. Cloudburst Probability → Yes / No with reasoning\n",
    "3. Key Factors → List the main conditions driving the assessment\n",
    "4. Recommendations → Clear and actionable steps for residents and authorities\n",
    "\n",
    "Keep the language simple and practical so that even non-technical people can understand.\n",
    "\"\"\"\n"
   ]
  },
  {
   "cell_type": "code",
   "execution_count": null,
   "id": "1d5947f6",
   "metadata": {},
   "outputs": [],
   "source": [
    "\n"
   ]
  },
  {
   "cell_type": "code",
   "execution_count": 20,
   "id": "ad352a5d",
   "metadata": {},
   "outputs": [],
   "source": [
    "def call_gpt(messages):\n",
    "    response = openai.chat.completions.create(model=model, messages=messages)\n",
    "    print(response.choices[0].message.content)"
   ]
  },
  {
   "cell_type": "code",
   "execution_count": 21,
   "id": "9bcae297",
   "metadata": {},
   "outputs": [],
   "source": [
    "def setup_vectorstore(db_name=\"vector_db\"):\n",
    "    \"\"\"Setup connection to existing vector database\"\"\"\n",
    "    try:\n",
    "        embeddings = OpenAIEmbeddings()\n",
    "        vectorstore = Chroma(\n",
    "            persist_directory=db_name, \n",
    "            embedding_function=embeddings\n",
    "        )\n",
    "        print(f\"Connected to vector database with {vectorstore._collection.count()} documents\")\n",
    "        return vectorstore\n",
    "    except Exception as e:\n",
    "        print(f\"Error connecting to vector database: {e}\")\n",
    "        return None\n"
   ]
  },
  {
   "cell_type": "code",
   "execution_count": 27,
   "id": "00a09757",
   "metadata": {},
   "outputs": [],
   "source": [
    "def get_relevant_context(vectorstore, query, k=3):\n",
    "    \"\"\"Get relevant documents from vector database\"\"\"\n",
    "    if vectorstore is None:\n",
    "        print(\"Vectorstore is None\")\n",
    "        return \"\"\n",
    "    \n",
    "    if not hasattr(vectorstore, \"similarity_search\"):\n",
    "        print(\"Invalid vectorstore object provided\")\n",
    "        return \"\"\n",
    "    \n",
    "    try:\n",
    "        docs = vectorstore.similarity_search(query, k=k)\n",
    "        \n",
    "        if not docs:\n",
    "            print(\"No relevant documents found.\")\n",
    "            return \"\"\n",
    "        \n",
    "        context = \"\\n\\nRELEVANT CONTEXT FROM KNOWLEDGE BASE:\\n\"\n",
    "        for i, doc in enumerate(docs, 1):\n",
    "            doc_type = doc.metadata.get('doc_type', 'Unknown')\n",
    "            snippet = (doc.page_content[:400] + \"...\") if doc.page_content else \"No content\"\n",
    "            context += f\"\\n{i}. From {doc_type}:\\n{snippet}\\n\"\n",
    "        \n",
    "        print(context)\n",
    "        return context\n",
    "    except Exception as e:\n",
    "        print(f\"Error retrieving context: {e}\")\n",
    "        return \"\"\n"
   ]
  },
  {
   "cell_type": "code",
   "execution_count": 23,
   "id": "db7d82f8",
   "metadata": {},
   "outputs": [],
   "source": [
    "def create_enhanced_system_prompt():\n",
    "    return \"\"\"\n",
    "    You are an expert disaster risk advisor specializing in cloudburst and flood events in Uttarakhand, India.\n",
    "    You will analyze weather and terrain conditions along with relevant historical and geographical context.\n",
    "    \n",
    "    Use the provided context from the knowledge base and calculated fvi to inform your risk assessment.\n",
    "    Reference specific historical events, geographical characteristics, and past patterns when relevant.\n",
    "    \n",
    "    Your response must always include:\n",
    "    1. Flood Risk Level → Low / Moderate / High / Severe\n",
    "    2. Cloudburst Probability → Yes / No with reasoning\n",
    "    3. Key Factors → List the main conditions driving the assessment\n",
    "    4. Historical/Geographical Context → Reference relevant information from the knowledge base\n",
    "    5. Recommendations → Clear and actionable steps for residents and authorities\n",
    "    6. Fufure prediction report\n",
    "    \n",
    "    Keep the language simple and practical so that even non-technical people can understand.\n",
    "    \"\"\""
   ]
  },
  {
   "cell_type": "code",
   "execution_count": 24,
   "id": "f71433e2",
   "metadata": {},
   "outputs": [],
   "source": [
    "def user_prompt(FVI,RAG):\n",
    "    user = \"Here are the observed conditions:\"+\\\n",
    "    \"Location detail and FVI calculate: \"+FVI\\\n",
    "    +\"Question: Is there a chance of flood or cloudburst, and what should residents and authorities do? make me a full report \"\\\n",
    "    \"Rag context for perticular location or situation: \"+RAG\n",
    "    return user\n"
   ]
  },
  {
   "cell_type": "code",
   "execution_count": 25,
   "id": "932e5680",
   "metadata": {},
   "outputs": [],
   "source": [
    "def call_gpt_with_context(messages, vectorstore=None):\n",
    "    \"\"\"Call GPT with contextual information from vector database\"\"\"\n",
    "    \n",
    "    \n",
    "    \n",
    "    # Get relevant context\n",
    "    if vectorstore and user_content:\n",
    "        search_query = user_content\n",
    "        if location:\n",
    "            search_query = f\"{location} {search_query}\"\n",
    "        \n",
    "        context = get_relevant_context(vectorstore, search_query)\n",
    "        \n",
    "        # Add context to user message\n",
    "        for msg in messages:\n",
    "            if msg[\"role\"] == \"user\":\n",
    "                msg[\"content\"] = msg[\"content\"] + context\n",
    "                break\n",
    "    \n",
    "    # Call GPT\n",
    "    response = openai.chat.completions.create(model=model, messages=messages)\n",
    "    return response.choices[0].message.content"
   ]
  },
  {
   "cell_type": "code",
   "execution_count": 26,
   "id": "ff893f06",
   "metadata": {},
   "outputs": [
    {
     "ename": "KeyboardInterrupt",
     "evalue": "",
     "output_type": "error",
     "traceback": [
      "\u001b[31m---------------------------------------------------------------------------\u001b[39m",
      "\u001b[31mKeyboardInterrupt\u001b[39m                         Traceback (most recent call last)",
      "\u001b[36mCell\u001b[39m\u001b[36m \u001b[39m\u001b[32mIn[26]\u001b[39m\u001b[32m, line 2\u001b[39m\n\u001b[32m      1\u001b[39m \u001b[38;5;66;03m# Initialize vector database connection\u001b[39;00m\n\u001b[32m----> \u001b[39m\u001b[32m2\u001b[39m vectorstore = \u001b[43msetup_vectorstore\u001b[49m\u001b[43m(\u001b[49m\u001b[33;43m\"\u001b[39;49m\u001b[33;43mvector_db\u001b[39;49m\u001b[33;43m\"\u001b[39;49m\u001b[43m)\u001b[49m\n\u001b[32m      4\u001b[39m \u001b[38;5;66;03m# Update your system prompt\u001b[39;00m\n\u001b[32m      5\u001b[39m enhanced_system_prompt = create_enhanced_system_prompt()\n",
      "\u001b[36mCell\u001b[39m\u001b[36m \u001b[39m\u001b[32mIn[21]\u001b[39m\u001b[32m, line 4\u001b[39m, in \u001b[36msetup_vectorstore\u001b[39m\u001b[34m(db_name)\u001b[39m\n\u001b[32m      2\u001b[39m \u001b[38;5;250m\u001b[39m\u001b[33;03m\"\"\"Setup connection to existing vector database\"\"\"\u001b[39;00m\n\u001b[32m      3\u001b[39m \u001b[38;5;28;01mtry\u001b[39;00m:\n\u001b[32m----> \u001b[39m\u001b[32m4\u001b[39m     embeddings = \u001b[43mOpenAIEmbeddings\u001b[49m\u001b[43m(\u001b[49m\u001b[43m)\u001b[49m\n\u001b[32m      5\u001b[39m     vectorstore = Chroma(\n\u001b[32m      6\u001b[39m         persist_directory=db_name, \n\u001b[32m      7\u001b[39m         embedding_function=embeddings\n\u001b[32m      8\u001b[39m     )\n\u001b[32m      9\u001b[39m     \u001b[38;5;28mprint\u001b[39m(\u001b[33mf\u001b[39m\u001b[33m\"\u001b[39m\u001b[33mConnected to vector database with \u001b[39m\u001b[38;5;132;01m{\u001b[39;00mvectorstore._collection.count()\u001b[38;5;132;01m}\u001b[39;00m\u001b[33m documents\u001b[39m\u001b[33m\"\u001b[39m)\n",
      "    \u001b[31m[... skipping hidden 1 frame]\u001b[39m\n",
      "\u001b[36mFile \u001b[39m\u001b[32mc:\\major\\Cloud-Burst-Prediction-and-Risk-Analysis\\venv\\Lib\\site-packages\\langchain_openai\\embeddings\\base.py:340\u001b[39m, in \u001b[36mOpenAIEmbeddings.validate_environment\u001b[39m\u001b[34m(self)\u001b[39m\n\u001b[32m    338\u001b[39m         \u001b[38;5;28mself\u001b[39m.http_async_client = httpx.AsyncClient(proxy=\u001b[38;5;28mself\u001b[39m.openai_proxy)\n\u001b[32m    339\u001b[39m     async_specific = {\u001b[33m\"\u001b[39m\u001b[33mhttp_client\u001b[39m\u001b[33m\"\u001b[39m: \u001b[38;5;28mself\u001b[39m.http_async_client}\n\u001b[32m--> \u001b[39m\u001b[32m340\u001b[39m     \u001b[38;5;28mself\u001b[39m.async_client = \u001b[43mopenai\u001b[49m\u001b[43m.\u001b[49m\u001b[43mAsyncOpenAI\u001b[49m\u001b[43m(\u001b[49m\n\u001b[32m    341\u001b[39m \u001b[43m        \u001b[49m\u001b[43m*\u001b[49m\u001b[43m*\u001b[49m\u001b[43mclient_params\u001b[49m\u001b[43m,\u001b[49m\n\u001b[32m    342\u001b[39m \u001b[43m        \u001b[49m\u001b[43m*\u001b[49m\u001b[43m*\u001b[49m\u001b[43masync_specific\u001b[49m\u001b[43m,\u001b[49m\u001b[43m  \u001b[49m\u001b[38;5;66;43;03m# type: ignore[arg-type]\u001b[39;49;00m\n\u001b[32m    343\u001b[39m \u001b[43m    \u001b[49m\u001b[43m)\u001b[49m.embeddings\n\u001b[32m    344\u001b[39m \u001b[38;5;28;01mreturn\u001b[39;00m \u001b[38;5;28mself\u001b[39m\n",
      "\u001b[36mFile \u001b[39m\u001b[32mc:\\major\\Cloud-Burst-Prediction-and-Risk-Analysis\\venv\\Lib\\site-packages\\openai\\_client.py:509\u001b[39m, in \u001b[36mAsyncOpenAI.__init__\u001b[39m\u001b[34m(self, api_key, organization, project, webhook_secret, base_url, websocket_base_url, timeout, max_retries, default_headers, default_query, http_client, _strict_response_validation)\u001b[39m\n\u001b[32m    506\u001b[39m \u001b[38;5;28;01mif\u001b[39;00m base_url \u001b[38;5;129;01mis\u001b[39;00m \u001b[38;5;28;01mNone\u001b[39;00m:\n\u001b[32m    507\u001b[39m     base_url = \u001b[33mf\u001b[39m\u001b[33m\"\u001b[39m\u001b[33mhttps://api.openai.com/v1\u001b[39m\u001b[33m\"\u001b[39m\n\u001b[32m--> \u001b[39m\u001b[32m509\u001b[39m \u001b[38;5;28;43msuper\u001b[39;49m\u001b[43m(\u001b[49m\u001b[43m)\u001b[49m\u001b[43m.\u001b[49m\u001b[34;43m__init__\u001b[39;49m\u001b[43m(\u001b[49m\n\u001b[32m    510\u001b[39m \u001b[43m    \u001b[49m\u001b[43mversion\u001b[49m\u001b[43m=\u001b[49m\u001b[43m__version__\u001b[49m\u001b[43m,\u001b[49m\n\u001b[32m    511\u001b[39m \u001b[43m    \u001b[49m\u001b[43mbase_url\u001b[49m\u001b[43m=\u001b[49m\u001b[43mbase_url\u001b[49m\u001b[43m,\u001b[49m\n\u001b[32m    512\u001b[39m \u001b[43m    \u001b[49m\u001b[43mmax_retries\u001b[49m\u001b[43m=\u001b[49m\u001b[43mmax_retries\u001b[49m\u001b[43m,\u001b[49m\n\u001b[32m    513\u001b[39m \u001b[43m    \u001b[49m\u001b[43mtimeout\u001b[49m\u001b[43m=\u001b[49m\u001b[43mtimeout\u001b[49m\u001b[43m,\u001b[49m\n\u001b[32m    514\u001b[39m \u001b[43m    \u001b[49m\u001b[43mhttp_client\u001b[49m\u001b[43m=\u001b[49m\u001b[43mhttp_client\u001b[49m\u001b[43m,\u001b[49m\n\u001b[32m    515\u001b[39m \u001b[43m    \u001b[49m\u001b[43mcustom_headers\u001b[49m\u001b[43m=\u001b[49m\u001b[43mdefault_headers\u001b[49m\u001b[43m,\u001b[49m\n\u001b[32m    516\u001b[39m \u001b[43m    \u001b[49m\u001b[43mcustom_query\u001b[49m\u001b[43m=\u001b[49m\u001b[43mdefault_query\u001b[49m\u001b[43m,\u001b[49m\n\u001b[32m    517\u001b[39m \u001b[43m    \u001b[49m\u001b[43m_strict_response_validation\u001b[49m\u001b[43m=\u001b[49m\u001b[43m_strict_response_validation\u001b[49m\u001b[43m,\u001b[49m\n\u001b[32m    518\u001b[39m \u001b[43m\u001b[49m\u001b[43m)\u001b[49m\n\u001b[32m    520\u001b[39m \u001b[38;5;28mself\u001b[39m._default_stream_cls = AsyncStream\n",
      "\u001b[36mFile \u001b[39m\u001b[32mc:\\major\\Cloud-Burst-Prediction-and-Risk-Analysis\\venv\\Lib\\site-packages\\openai\\_base_client.py:1409\u001b[39m, in \u001b[36mAsyncAPIClient.__init__\u001b[39m\u001b[34m(self, version, base_url, _strict_response_validation, max_retries, timeout, http_client, custom_headers, custom_query)\u001b[39m\n\u001b[32m   1395\u001b[39m     \u001b[38;5;28;01mraise\u001b[39;00m \u001b[38;5;167;01mTypeError\u001b[39;00m(\n\u001b[32m   1396\u001b[39m         \u001b[33mf\u001b[39m\u001b[33m\"\u001b[39m\u001b[33mInvalid `http_client` argument; Expected an instance of `httpx.AsyncClient` but got \u001b[39m\u001b[38;5;132;01m{\u001b[39;00m\u001b[38;5;28mtype\u001b[39m(http_client)\u001b[38;5;132;01m}\u001b[39;00m\u001b[33m\"\u001b[39m\n\u001b[32m   1397\u001b[39m     )\n\u001b[32m   1399\u001b[39m \u001b[38;5;28msuper\u001b[39m().\u001b[34m__init__\u001b[39m(\n\u001b[32m   1400\u001b[39m     version=version,\n\u001b[32m   1401\u001b[39m     base_url=base_url,\n\u001b[32m   (...)\u001b[39m\u001b[32m   1407\u001b[39m     _strict_response_validation=_strict_response_validation,\n\u001b[32m   1408\u001b[39m )\n\u001b[32m-> \u001b[39m\u001b[32m1409\u001b[39m \u001b[38;5;28mself\u001b[39m._client = http_client \u001b[38;5;129;01mor\u001b[39;00m \u001b[43mAsyncHttpxClientWrapper\u001b[49m\u001b[43m(\u001b[49m\n\u001b[32m   1410\u001b[39m \u001b[43m    \u001b[49m\u001b[43mbase_url\u001b[49m\u001b[43m=\u001b[49m\u001b[43mbase_url\u001b[49m\u001b[43m,\u001b[49m\n\u001b[32m   1411\u001b[39m \u001b[43m    \u001b[49m\u001b[38;5;66;43;03m# cast to a valid type because mypy doesn't understand our type narrowing\u001b[39;49;00m\n\u001b[32m   1412\u001b[39m \u001b[43m    \u001b[49m\u001b[43mtimeout\u001b[49m\u001b[43m=\u001b[49m\u001b[43mcast\u001b[49m\u001b[43m(\u001b[49m\u001b[43mTimeout\u001b[49m\u001b[43m,\u001b[49m\u001b[43m \u001b[49m\u001b[43mtimeout\u001b[49m\u001b[43m)\u001b[49m\u001b[43m,\u001b[49m\n\u001b[32m   1413\u001b[39m \u001b[43m\u001b[49m\u001b[43m)\u001b[49m\n",
      "\u001b[36mFile \u001b[39m\u001b[32mc:\\major\\Cloud-Burst-Prediction-and-Risk-Analysis\\venv\\Lib\\site-packages\\openai\\_base_client.py:1316\u001b[39m, in \u001b[36m_DefaultAsyncHttpxClient.__init__\u001b[39m\u001b[34m(self, **kwargs)\u001b[39m\n\u001b[32m   1314\u001b[39m kwargs.setdefault(\u001b[33m\"\u001b[39m\u001b[33mlimits\u001b[39m\u001b[33m\"\u001b[39m, DEFAULT_CONNECTION_LIMITS)\n\u001b[32m   1315\u001b[39m kwargs.setdefault(\u001b[33m\"\u001b[39m\u001b[33mfollow_redirects\u001b[39m\u001b[33m\"\u001b[39m, \u001b[38;5;28;01mTrue\u001b[39;00m)\n\u001b[32m-> \u001b[39m\u001b[32m1316\u001b[39m \u001b[38;5;28;43msuper\u001b[39;49m\u001b[43m(\u001b[49m\u001b[43m)\u001b[49m\u001b[43m.\u001b[49m\u001b[34;43m__init__\u001b[39;49m\u001b[43m(\u001b[49m\u001b[43m*\u001b[49m\u001b[43m*\u001b[49m\u001b[43mkwargs\u001b[49m\u001b[43m)\u001b[49m\n",
      "\u001b[36mFile \u001b[39m\u001b[32mc:\\major\\Cloud-Burst-Prediction-and-Risk-Analysis\\venv\\Lib\\site-packages\\httpx\\_client.py:1402\u001b[39m, in \u001b[36mAsyncClient.__init__\u001b[39m\u001b[34m(self, auth, params, headers, cookies, verify, cert, http1, http2, proxy, mounts, timeout, follow_redirects, limits, max_redirects, event_hooks, base_url, transport, trust_env, default_encoding)\u001b[39m\n\u001b[32m   1399\u001b[39m allow_env_proxies = trust_env \u001b[38;5;129;01mand\u001b[39;00m transport \u001b[38;5;129;01mis\u001b[39;00m \u001b[38;5;28;01mNone\u001b[39;00m\n\u001b[32m   1400\u001b[39m proxy_map = \u001b[38;5;28mself\u001b[39m._get_proxy_map(proxy, allow_env_proxies)\n\u001b[32m-> \u001b[39m\u001b[32m1402\u001b[39m \u001b[38;5;28mself\u001b[39m._transport = \u001b[38;5;28;43mself\u001b[39;49m\u001b[43m.\u001b[49m\u001b[43m_init_transport\u001b[49m\u001b[43m(\u001b[49m\n\u001b[32m   1403\u001b[39m \u001b[43m    \u001b[49m\u001b[43mverify\u001b[49m\u001b[43m=\u001b[49m\u001b[43mverify\u001b[49m\u001b[43m,\u001b[49m\n\u001b[32m   1404\u001b[39m \u001b[43m    \u001b[49m\u001b[43mcert\u001b[49m\u001b[43m=\u001b[49m\u001b[43mcert\u001b[49m\u001b[43m,\u001b[49m\n\u001b[32m   1405\u001b[39m \u001b[43m    \u001b[49m\u001b[43mtrust_env\u001b[49m\u001b[43m=\u001b[49m\u001b[43mtrust_env\u001b[49m\u001b[43m,\u001b[49m\n\u001b[32m   1406\u001b[39m \u001b[43m    \u001b[49m\u001b[43mhttp1\u001b[49m\u001b[43m=\u001b[49m\u001b[43mhttp1\u001b[49m\u001b[43m,\u001b[49m\n\u001b[32m   1407\u001b[39m \u001b[43m    \u001b[49m\u001b[43mhttp2\u001b[49m\u001b[43m=\u001b[49m\u001b[43mhttp2\u001b[49m\u001b[43m,\u001b[49m\n\u001b[32m   1408\u001b[39m \u001b[43m    \u001b[49m\u001b[43mlimits\u001b[49m\u001b[43m=\u001b[49m\u001b[43mlimits\u001b[49m\u001b[43m,\u001b[49m\n\u001b[32m   1409\u001b[39m \u001b[43m    \u001b[49m\u001b[43mtransport\u001b[49m\u001b[43m=\u001b[49m\u001b[43mtransport\u001b[49m\u001b[43m,\u001b[49m\n\u001b[32m   1410\u001b[39m \u001b[43m\u001b[49m\u001b[43m)\u001b[49m\n\u001b[32m   1412\u001b[39m \u001b[38;5;28mself\u001b[39m._mounts: \u001b[38;5;28mdict\u001b[39m[URLPattern, AsyncBaseTransport | \u001b[38;5;28;01mNone\u001b[39;00m] = {\n\u001b[32m   1413\u001b[39m     URLPattern(key): \u001b[38;5;28;01mNone\u001b[39;00m\n\u001b[32m   1414\u001b[39m     \u001b[38;5;28;01mif\u001b[39;00m proxy \u001b[38;5;129;01mis\u001b[39;00m \u001b[38;5;28;01mNone\u001b[39;00m\n\u001b[32m   (...)\u001b[39m\u001b[32m   1424\u001b[39m     \u001b[38;5;28;01mfor\u001b[39;00m key, proxy \u001b[38;5;129;01min\u001b[39;00m proxy_map.items()\n\u001b[32m   1425\u001b[39m }\n\u001b[32m   1426\u001b[39m \u001b[38;5;28;01mif\u001b[39;00m mounts \u001b[38;5;129;01mis\u001b[39;00m \u001b[38;5;129;01mnot\u001b[39;00m \u001b[38;5;28;01mNone\u001b[39;00m:\n",
      "\u001b[36mFile \u001b[39m\u001b[32mc:\\major\\Cloud-Burst-Prediction-and-Risk-Analysis\\venv\\Lib\\site-packages\\httpx\\_client.py:1445\u001b[39m, in \u001b[36mAsyncClient._init_transport\u001b[39m\u001b[34m(self, verify, cert, trust_env, http1, http2, limits, transport)\u001b[39m\n\u001b[32m   1442\u001b[39m \u001b[38;5;28;01mif\u001b[39;00m transport \u001b[38;5;129;01mis\u001b[39;00m \u001b[38;5;129;01mnot\u001b[39;00m \u001b[38;5;28;01mNone\u001b[39;00m:\n\u001b[32m   1443\u001b[39m     \u001b[38;5;28;01mreturn\u001b[39;00m transport\n\u001b[32m-> \u001b[39m\u001b[32m1445\u001b[39m \u001b[38;5;28;01mreturn\u001b[39;00m \u001b[43mAsyncHTTPTransport\u001b[49m\u001b[43m(\u001b[49m\n\u001b[32m   1446\u001b[39m \u001b[43m    \u001b[49m\u001b[43mverify\u001b[49m\u001b[43m=\u001b[49m\u001b[43mverify\u001b[49m\u001b[43m,\u001b[49m\n\u001b[32m   1447\u001b[39m \u001b[43m    \u001b[49m\u001b[43mcert\u001b[49m\u001b[43m=\u001b[49m\u001b[43mcert\u001b[49m\u001b[43m,\u001b[49m\n\u001b[32m   1448\u001b[39m \u001b[43m    \u001b[49m\u001b[43mtrust_env\u001b[49m\u001b[43m=\u001b[49m\u001b[43mtrust_env\u001b[49m\u001b[43m,\u001b[49m\n\u001b[32m   1449\u001b[39m \u001b[43m    \u001b[49m\u001b[43mhttp1\u001b[49m\u001b[43m=\u001b[49m\u001b[43mhttp1\u001b[49m\u001b[43m,\u001b[49m\n\u001b[32m   1450\u001b[39m \u001b[43m    \u001b[49m\u001b[43mhttp2\u001b[49m\u001b[43m=\u001b[49m\u001b[43mhttp2\u001b[49m\u001b[43m,\u001b[49m\n\u001b[32m   1451\u001b[39m \u001b[43m    \u001b[49m\u001b[43mlimits\u001b[49m\u001b[43m=\u001b[49m\u001b[43mlimits\u001b[49m\u001b[43m,\u001b[49m\n\u001b[32m   1452\u001b[39m \u001b[43m\u001b[49m\u001b[43m)\u001b[49m\n",
      "\u001b[36mFile \u001b[39m\u001b[32mc:\\major\\Cloud-Burst-Prediction-and-Risk-Analysis\\venv\\Lib\\site-packages\\httpx\\_transports\\default.py:297\u001b[39m, in \u001b[36mAsyncHTTPTransport.__init__\u001b[39m\u001b[34m(self, verify, cert, trust_env, http1, http2, limits, proxy, uds, local_address, retries, socket_options)\u001b[39m\n\u001b[32m    294\u001b[39m \u001b[38;5;28;01mimport\u001b[39;00m\u001b[38;5;250m \u001b[39m\u001b[34;01mhttpcore\u001b[39;00m\n\u001b[32m    296\u001b[39m proxy = Proxy(url=proxy) \u001b[38;5;28;01mif\u001b[39;00m \u001b[38;5;28misinstance\u001b[39m(proxy, (\u001b[38;5;28mstr\u001b[39m, URL)) \u001b[38;5;28;01melse\u001b[39;00m proxy\n\u001b[32m--> \u001b[39m\u001b[32m297\u001b[39m ssl_context = \u001b[43mcreate_ssl_context\u001b[49m\u001b[43m(\u001b[49m\u001b[43mverify\u001b[49m\u001b[43m=\u001b[49m\u001b[43mverify\u001b[49m\u001b[43m,\u001b[49m\u001b[43m \u001b[49m\u001b[43mcert\u001b[49m\u001b[43m=\u001b[49m\u001b[43mcert\u001b[49m\u001b[43m,\u001b[49m\u001b[43m \u001b[49m\u001b[43mtrust_env\u001b[49m\u001b[43m=\u001b[49m\u001b[43mtrust_env\u001b[49m\u001b[43m)\u001b[49m\n\u001b[32m    299\u001b[39m \u001b[38;5;28;01mif\u001b[39;00m proxy \u001b[38;5;129;01mis\u001b[39;00m \u001b[38;5;28;01mNone\u001b[39;00m:\n\u001b[32m    300\u001b[39m     \u001b[38;5;28mself\u001b[39m._pool = httpcore.AsyncConnectionPool(\n\u001b[32m    301\u001b[39m         ssl_context=ssl_context,\n\u001b[32m    302\u001b[39m         max_connections=limits.max_connections,\n\u001b[32m   (...)\u001b[39m\u001b[32m    310\u001b[39m         socket_options=socket_options,\n\u001b[32m    311\u001b[39m     )\n",
      "\u001b[36mFile \u001b[39m\u001b[32mc:\\major\\Cloud-Burst-Prediction-and-Risk-Analysis\\venv\\Lib\\site-packages\\httpx\\_config.py:40\u001b[39m, in \u001b[36mcreate_ssl_context\u001b[39m\u001b[34m(verify, cert, trust_env)\u001b[39m\n\u001b[32m     37\u001b[39m         ctx = ssl.create_default_context(capath=os.environ[\u001b[33m\"\u001b[39m\u001b[33mSSL_CERT_DIR\u001b[39m\u001b[33m\"\u001b[39m])\n\u001b[32m     38\u001b[39m     \u001b[38;5;28;01melse\u001b[39;00m:\n\u001b[32m     39\u001b[39m         \u001b[38;5;66;03m# Default case...\u001b[39;00m\n\u001b[32m---> \u001b[39m\u001b[32m40\u001b[39m         ctx = \u001b[43mssl\u001b[49m\u001b[43m.\u001b[49m\u001b[43mcreate_default_context\u001b[49m\u001b[43m(\u001b[49m\u001b[43mcafile\u001b[49m\u001b[43m=\u001b[49m\u001b[43mcertifi\u001b[49m\u001b[43m.\u001b[49m\u001b[43mwhere\u001b[49m\u001b[43m(\u001b[49m\u001b[43m)\u001b[49m\u001b[43m)\u001b[49m\n\u001b[32m     41\u001b[39m \u001b[38;5;28;01melif\u001b[39;00m verify \u001b[38;5;129;01mis\u001b[39;00m \u001b[38;5;28;01mFalse\u001b[39;00m:\n\u001b[32m     42\u001b[39m     ctx = ssl.SSLContext(ssl.PROTOCOL_TLS_CLIENT)\n",
      "\u001b[36mFile \u001b[39m\u001b[32m~\\AppData\\Local\\Programs\\Python\\Python313\\Lib\\ssl.py:717\u001b[39m, in \u001b[36mcreate_default_context\u001b[39m\u001b[34m(purpose, cafile, capath, cadata)\u001b[39m\n\u001b[32m    713\u001b[39m context.verify_flags |= (_ssl.VERIFY_X509_PARTIAL_CHAIN |\n\u001b[32m    714\u001b[39m                          _ssl.VERIFY_X509_STRICT)\n\u001b[32m    716\u001b[39m \u001b[38;5;28;01mif\u001b[39;00m cafile \u001b[38;5;129;01mor\u001b[39;00m capath \u001b[38;5;129;01mor\u001b[39;00m cadata:\n\u001b[32m--> \u001b[39m\u001b[32m717\u001b[39m     \u001b[43mcontext\u001b[49m\u001b[43m.\u001b[49m\u001b[43mload_verify_locations\u001b[49m\u001b[43m(\u001b[49m\u001b[43mcafile\u001b[49m\u001b[43m,\u001b[49m\u001b[43m \u001b[49m\u001b[43mcapath\u001b[49m\u001b[43m,\u001b[49m\u001b[43m \u001b[49m\u001b[43mcadata\u001b[49m\u001b[43m)\u001b[49m\n\u001b[32m    718\u001b[39m \u001b[38;5;28;01melif\u001b[39;00m context.verify_mode != CERT_NONE:\n\u001b[32m    719\u001b[39m     \u001b[38;5;66;03m# no explicit cafile, capath or cadata but the verify mode is\u001b[39;00m\n\u001b[32m    720\u001b[39m     \u001b[38;5;66;03m# CERT_OPTIONAL or CERT_REQUIRED. Let's try to load default system\u001b[39;00m\n\u001b[32m    721\u001b[39m     \u001b[38;5;66;03m# root CA certificates for the given purpose. This may fail silently.\u001b[39;00m\n\u001b[32m    722\u001b[39m     context.load_default_certs(purpose)\n",
      "\u001b[31mKeyboardInterrupt\u001b[39m: "
     ]
    }
   ],
   "source": [
    "\n",
    "\n",
    "\n",
    "\n",
    "\n",
    "\n",
    "\n",
    "\n",
    "\n",
    "# Initialize vector database connection\n",
    "vectorstore = setup_vectorstore(\"vector_db\")\n",
    "\n",
    "# Update your system prompt\n",
    "enhanced_system_prompt = create_enhanced_system_prompt()\n",
    "\n",
    "# Your existing user prompt with location information\n",
    "user_prompt_with_location = user_prompt(\"Weather\")\n",
    "\n",
    "# Create messages with enhanced system prompt\n",
    "enhanced_messages = [\n",
    "    {\"role\": \"system\", \"content\": enhanced_system_prompt},\n",
    "    {\"role\": \"user\", \"content\": user_prompt_with_location}\n",
    "]\n",
    "\n",
    "# Call with context\n",
    "print(\"=== ENHANCED RISK ANALYSIS WITH CONTEXT ===\")\n",
    "enhanced_result = call_gpt_with_context(enhanced_messages, vectorstore, \"Uttarkashi\")\n",
    "print(enhanced_result)\n",
    "\n",
    "# Cell 7: Function for quick district queries\n",
    "def query_district_info(district_name, vectorstore):\n",
    "    \"\"\"Quick function to get district-specific information\"\"\"\n",
    "    if not vectorstore:\n",
    "        return \"Vector database not available\"\n",
    "    \n",
    "    query = f\"{district_name} district characteristics risk factors historical events\"\n",
    "    docs = vectorstore.similarity_search(query, k=5)\n",
    "    \n",
    "    if not docs:\n",
    "        return f\"No information found for {district_name}\"\n",
    "    \n",
    "    result = f\"=== {district_name.upper()} DISTRICT INFORMATION ===\\n\\n\"\n",
    "    for i, doc in enumerate(docs, 1):\n",
    "        doc_type = doc.metadata.get('doc_type', 'Unknown')\n",
    "        result += f\"{i}. {doc_type}:\\n{doc.page_content[:300]}...\\n\\n\"\n",
    "    \n",
    "    return result\n",
    "\n",
    "# Cell 8: Example district query\n",
    "print(\"=== DISTRICT INFORMATION ===\")\n",
    "district_info = query_district_info(\"Rudraprayag\", vectorstore)\n",
    "print(district_info)"
   ]
  },
  {
   "cell_type": "code",
   "execution_count": null,
   "id": "cf091195",
   "metadata": {},
   "outputs": [],
   "source": []
  }
 ],
 "metadata": {
  "kernelspec": {
   "display_name": "venv",
   "language": "python",
   "name": "python3"
  },
  "language_info": {
   "codemirror_mode": {
    "name": "ipython",
    "version": 3
   },
   "file_extension": ".py",
   "mimetype": "text/x-python",
   "name": "python",
   "nbconvert_exporter": "python",
   "pygments_lexer": "ipython3",
   "version": "3.13.5"
  }
 },
 "nbformat": 4,
 "nbformat_minor": 5
}
