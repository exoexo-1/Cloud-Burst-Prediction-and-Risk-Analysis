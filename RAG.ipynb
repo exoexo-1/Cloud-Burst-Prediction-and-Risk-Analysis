{
 "cells": [
  {
   "cell_type": "code",
   "execution_count": 1,
   "id": "7d85826e",
   "metadata": {},
   "outputs": [],
   "source": [
    "# imports\n",
    "\n",
    "import os\n",
    "import glob\n",
    "from dotenv import load_dotenv\n",
    "import gradio as gr\n",
    "import numpy as np\n"
   ]
  },
  {
   "cell_type": "code",
   "execution_count": 2,
   "id": "10597cb2",
   "metadata": {},
   "outputs": [],
   "source": [
    "# imports for langchain and Chroma and plotly\n",
    "\n",
    "from langchain.document_loaders import DirectoryLoader, TextLoader\n",
    "from langchain.text_splitter import CharacterTextSplitter\n",
    "from langchain.schema import Document\n",
    "from langchain_openai import OpenAIEmbeddings, ChatOpenAI\n",
    "from langchain_chroma import Chroma\n",
    "from sklearn.manifold import TSNE\n",
    "import plotly.graph_objects as go\n",
    "from langchain.memory import ConversationBufferMemory\n",
    "from langchain.chains import ConversationalRetrievalChain\n",
    "\n"
   ]
  },
  {
   "cell_type": "code",
   "execution_count": 3,
   "id": "4a2843c3",
   "metadata": {},
   "outputs": [],
   "source": [
    "# price is a factor for our company, so we're going to use a low cost model\n",
    "\n",
    "MODEL = \"gpt-4o-mini\"\n",
    "db_name = \"vector_db\""
   ]
  },
  {
   "cell_type": "code",
   "execution_count": 4,
   "id": "f2238677",
   "metadata": {},
   "outputs": [],
   "source": [
    "# Load environment variables in a file called .env\n",
    "\n",
    "load_dotenv(override=True)\n",
    "os.environ['OPENAI_API_KEY'] = os.getenv('OPENAI_API_KEY', 'your-key-if-not-using-env')"
   ]
  },
  {
   "cell_type": "code",
   "execution_count": 5,
   "id": "a859e569",
   "metadata": {},
   "outputs": [],
   "source": [
    "# Read in documents using LangChain's loaders\n",
    "# Take everything in all the sub-folders of our knowledgebase\n",
    "\n",
    "\n",
    "folders = glob.glob(\"knowledge base/*\")\n",
    "\n",
    "text_loader_kwargs = {'encoding': 'utf-8'}\n",
    "# text_loader_kwargs={'autodetect_encoding': True}\n",
    "\n",
    "documents = []\n",
    "for folder in folders:\n",
    "    doc_type = os.path.basename(folder)\n",
    "    loader = DirectoryLoader(folder, glob=\"**/*.md\", loader_cls=TextLoader, loader_kwargs=text_loader_kwargs)\n",
    "    folder_docs = loader.load()\n",
    "    for doc in folder_docs:\n",
    "        doc.metadata[\"doc_type\"] = doc_type\n",
    "        documents.append(doc)"
   ]
  },
  {
   "cell_type": "code",
   "execution_count": 6,
   "id": "52c05b95",
   "metadata": {},
   "outputs": [
    {
     "name": "stdout",
     "output_type": "stream",
     "text": [
      "[Document(metadata={'source': 'knowledge base\\\\Almora\\\\Kumaon_Hills_Characteristics.md', 'doc_type': 'Almora'}, page_content='## Kumaon Hills Characteristics\\n\\nAlmora district represents the heart of the Kumaon Hills region, characterized by a complex ridge-valley system that creates a dendritic pattern of drainage and settlement. The geological foundation of the district consists primarily of rocks from the Lesser Himalayan sequence, which are generally more stable than the highly metamorphosed rocks found in the higher elevation districts of the Garhwal region.The ridge-valley system creates a natural pattern of settlement where communities are typically located on ridge tops or upper slopes, providing natural protection from valley floor hazards while maintaining access to water sources and agricultural land. This settlement pattern has evolved over centuries and reflects the accumulated wisdom of local communities in managing natural hazards in mountain environments. <br><br>\\nSlope stability throughout Almora district is generally better than in the Garhwal region, though localized areas of instability exist where geological conditions, slope geometry, or human activities have created vulnerable conditions. The lower overall vulnerability allows for more extensive agricultural development and denser settlement patterns than would be prudent in higher-risk districts. Settlement patterns in Almora follow the traditional ridge-top approach that provides safety from many valley-floor hazards but can create exposure to other types of risks such as lightning strikes, high winds, and water scarcity during drought periods. The elevated locations of many settlements also place them within elevation ranges that are susceptible to cloudburst formation, creating the potential for direct exposure to extreme precipitation events.\\n'), Document(metadata={'source': 'knowledge base\\\\Almora\\\\Soil_Conservation_Practices.md', 'doc_type': 'Almora'}, page_content='## Soil Conservation Practices\\n\\nTraditional soil conservation methods in Almora district include the chaur system of terrace farming, which has been refined over centuries to provide effective erosion control while maintaining agricultural productivity. These traditional methods are based on detailed understanding of local topographic, geological, and climatic conditions and represent sophisticated approaches to sustainable land management in mountain environments. Modern interventions in soil conservation include the construction of check dams to control erosion in drainage channels, contour trenching to reduce surface runoff and increase infiltration, and the establishment of vegetation barriers along contour lines to provide physical and biological soil protection. These interventions have been implemented through various government and non-governmental programs aimed at reducing erosion and improving watershed management. <br> <br>\\nSuccess rates for soil conservation interventions vary depending on the specific methods used, local conditions, and maintenance practices. Where properly implemented and maintained, these interventions have achieved up to 65% reduction in soil erosion rates compared to untreated areas. However, success depends heavily on community participation and ongoing maintenance, which can be challenging in areas experiencing rural-urban migration and changing economic conditions.The integration of traditional and modern soil conservation approaches has shown particular promise, combining the local knowledge and sustainability of traditional methods with the technical capabilities and resources available through modern programs. This integrated approach can provide more comprehensive and durable soil conservation solutions than either traditional or modern methods alone.\\n')]\n"
     ]
    },
    {
     "data": {
      "text/plain": [
       "50"
      ]
     },
     "execution_count": 6,
     "metadata": {},
     "output_type": "execute_result"
    }
   ],
   "source": [
    "print(documents[0:2])\n",
    "len(documents)"
   ]
  },
  {
   "cell_type": "code",
   "execution_count": 7,
   "id": "4a8675f8",
   "metadata": {},
   "outputs": [
    {
     "name": "stderr",
     "output_type": "stream",
     "text": [
      "Created a chunk of size 1058, which is longer than the specified 800\n"
     ]
    }
   ],
   "source": [
    "text_splitter = CharacterTextSplitter(chunk_size=800, chunk_overlap=200)\n",
    "chunks = text_splitter.split_documents(documents)"
   ]
  },
  {
   "cell_type": "code",
   "execution_count": 8,
   "id": "ac00ca52",
   "metadata": {},
   "outputs": [
    {
     "data": {
      "text/plain": [
       "135"
      ]
     },
     "execution_count": 8,
     "metadata": {},
     "output_type": "execute_result"
    }
   ],
   "source": [
    "len(chunks)"
   ]
  },
  {
   "cell_type": "code",
   "execution_count": 9,
   "id": "cda7b371",
   "metadata": {},
   "outputs": [
    {
     "data": {
      "text/plain": [
       "Document(metadata={'source': 'knowledge base\\\\Almora\\\\Soil_Conservation_Practices.md', 'doc_type': 'Almora'}, page_content='Traditional soil conservation methods in Almora district include the chaur system of terrace farming, which has been refined over centuries to provide effective erosion control while maintaining agricultural productivity. These traditional methods are based on detailed understanding of local topographic, geological, and climatic conditions and represent sophisticated approaches to sustainable land management in mountain environments. Modern interventions in soil conservation include the construction of check dams to control erosion in drainage channels, contour trenching to reduce surface runoff and increase infiltration, and the establishment of vegetation barriers along contour lines to provide physical and biological soil protection. These interventions have been implemented through various government and non-governmental programs aimed at reducing erosion and improving watershed management. <br> <br>\\nSuccess rates for soil conservation interventions vary depending on the specific methods used, local conditions, and maintenance practices. Where properly implemented and maintained, these interventions have achieved up to 65% reduction in soil erosion rates compared to untreated areas. However, success depends heavily on community participation and ongoing maintenance, which can be challenging in areas experiencing rural-urban migration and changing economic conditions.The integration of traditional and modern soil conservation approaches has shown particular promise, combining the local knowledge and sustainability of traditional methods with the technical capabilities and resources available through modern programs. This integrated approach can provide more comprehensive and durable soil conservation solutions than either traditional or modern methods alone.')"
      ]
     },
     "execution_count": 9,
     "metadata": {},
     "output_type": "execute_result"
    }
   ],
   "source": [
    "chunks[3]"
   ]
  },
  {
   "cell_type": "code",
   "execution_count": 10,
   "id": "d32da1f7",
   "metadata": {},
   "outputs": [
    {
     "name": "stdout",
     "output_type": "stream",
     "text": [
      "Document types found: Pithoragarh, Major_Historical_Events, Bageshwar, Udham Singh Nagar, Nainital, Rudraprayag, Pauri Garhwal, Tehri Garhwal, Champawat, Chamoli, Dehradun, Haridwar, Almora, Uttarkashi\n"
     ]
    }
   ],
   "source": [
    "doc_types = set(chunk.metadata['doc_type'] for chunk in chunks)\n",
    "print(f\"Document types found: {', '.join(doc_types)}\")"
   ]
  },
  {
   "cell_type": "code",
   "execution_count": 11,
   "id": "eeaf4a43",
   "metadata": {},
   "outputs": [
    {
     "name": "stdout",
     "output_type": "stream",
     "text": [
      "page_content='##  Advanced Risk Zonation\n",
      "\n",
      "Risk zonation within Chamoli district reflects the complex interaction between glacial hazards, topographic vulnerability, and population distribution. Extremely high-risk areas include the Alaknanda valley between Badrinath and Joshimath, where narrow valley geometry, extensive glaciation, and concentrated infrastructure create maximum vulnerability conditions. The Dhauliganga valley, site of the 2021 disaster, remains under extremely high risk due to continued glacial instability and the potential for additional rock-ice avalanches.' metadata={'source': 'knowledge base\\\\Chamoli\\\\Advanced_Risk_Zonation.md', 'doc_type': 'Chamoli'}\n",
      "_________\n",
      "page_content='The 2021 Chamoli flash flood represents the most recent example of the complex interaction between glacial processes and extreme weather events. While the exact trigger mechanism remains under investigation, the event demonstrated how rapidly glacial hazards can develop and how devastating their downstream impacts can be. The disaster highlighted the need for comprehensive monitoring of glacial lakes and improved understanding of the processes that can trigger sudden releases of stored water and debris.' metadata={'source': 'knowledge base\\\\Chamoli\\\\Glacial_Lake_Inventory_and_GLOF_Risk.md', 'doc_type': 'Chamoli'}\n",
      "_________\n",
      "page_content='# Major Historical Events (1970–2025)\n",
      "\n",
      "## 2025 Uttarkashi Flash Flood (Dharali / Kheer Ganga)\n",
      "\n",
      "On **5 August 2025**, a catastrophic multi-hazard flash flood struck the Dharali region along the Kheer Ganga river system in Uttarkashi district. Preliminary IMD and field analyses suggest an intense cloudburst, with rainfall rates exceeding ~200 mm/hr over a highly concentrated zone.\n",
      "\n",
      "### Causes\n",
      "The cascading nature of the disaster combined:\n",
      "- Extreme precipitation  \n",
      "- Possible glacial lake outburst flooding (GLOF)  \n",
      "- Potential glacier collapse mechanisms  \n",
      "- Secondary landslide activity  \n",
      "\n",
      "All converged to produce devastating floods that swept through the narrow valleys.' metadata={'source': 'knowledge base\\\\Major_Historical_Events\\\\1970-2025.md', 'doc_type': 'Major_Historical_Events'}\n",
      "_________\n",
      "page_content='### Response / Relief\n",
      "- **NDRF, Indian Army, and Air Force** deployed for rescue operations.  \n",
      "- Emergency evacuations; operations to free **workers trapped in tunnels**.  \n",
      "\n",
      "### Significance & Lessons\n",
      "- Demonstrated how **cryosphere instability** (ice-rock-glacier collapse) can unleash catastrophic floods with **minimal warning**.  \n",
      "- Exposed vulnerabilities of **high-altitude infrastructure** built in hazard-prone zones.  \n",
      "- Raised questions on **climate warming** and its role in increasing frequency of such disasters.  \n",
      "- Emphasized the need for **glacier monitoring, hazard mapping, and early warning systems** in the Himalayas.  \n",
      "\n",
      "---\n",
      "\n",
      "## 2013 Kedarnath Catastrophe' metadata={'source': 'knowledge base\\\\Major_Historical_Events\\\\1970-2025.md', 'doc_type': 'Major_Historical_Events'}\n",
      "_________\n",
      "page_content='---\n",
      "\n",
      "## 2013 Kedarnath Catastrophe\n",
      "\n",
      "Between **15–17 June 2013**, the Kedarnath region of Rudraprayag district experienced the deadliest Himalayan disaster in modern history, striking at the height of the pilgrimage season.\n",
      "\n",
      "### Meteorology & Triggers\n",
      "- Field measurements from the Wadia Institute of Himalayan Geology (WIHG) recorded ~315 mm rainfall within 24 hours at Chorabari, with multi-day totals of ~300–385 mm.  \n",
      "- Earlier simplified accounts citing 340 mm in six hours are now considered unsupported by gauge records.  \n",
      "- The disaster was triggered by a triple interaction:  \n",
      "  - Intense extreme rainfall  \n",
      "  - Breach of the moraine-dammed Chorabari Lake  \n",
      "  - Saturated mountain slopes leading to massive landslides' metadata={'source': 'knowledge base\\\\Major_Historical_Events\\\\1970-2025.md', 'doc_type': 'Major_Historical_Events'}\n",
      "_________\n",
      "page_content='### Significance\n",
      "The Kedarnath tragedy remains the benchmark Himalayan disaster — a defining example of how a single meteorological trigger can unleash cascading hazards: rainfall, GLOF, moraine breach, and landslides — magnified by fragile mountain systems and human exposure.\n",
      "\n",
      "---\n",
      "\n",
      "## 2013 (or 2012) Ukhimath Cloudburst (Uncertain Record)\n",
      "\n",
      "In **mid-September**, a severe cloudburst event struck the Ukhimath area of Rudraprayag district, demonstrating the region’s persistent vulnerability to extreme rainfall during the late monsoon period.\n",
      "\n",
      "### Meteorology\n",
      "- ~180 mm rainfall within ~3 hours, driven by **orographic convergence** (uplift of moist monsoon air by steep topography).  \n",
      "- Localized, high-intensity rainfall overwhelmed drainage channels and destabilized mountain slopes.' metadata={'source': 'knowledge base\\\\Major_Historical_Events\\\\1970-2025.md', 'doc_type': 'Major_Historical_Events'}\n",
      "_________\n",
      "page_content='### Casualties\n",
      "- Reports vary, citing **19 to 39 fatalities** across different government and media sources.  \n",
      "\n",
      "### Chronology Confusion\n",
      "- Some records cite **14 September 2012**, while others record **14 September 2013**.  \n",
      "- Later reviews sometimes conflate the two years, leaving the precise timing uncertain.  \n",
      "\n",
      "### Significance\n",
      "The Ukhimath cloudburst illustrates both the localized nature of Himalayan cloudbursts and the challenges of reliable disaster record-keeping in remote regions.  \n",
      "\n",
      "**Safest phrasing**: *“Ukhimath cloudburst (mid-September, 2012/2013, ~20–40 deaths)”*.' metadata={'source': 'knowledge base\\\\Major_Historical_Events\\\\1970-2025.md', 'doc_type': 'Major_Historical_Events'}\n",
      "_________\n",
      "page_content='Pauri Garhwal district exemplifies the traditional Himalayan settlement pattern where communities are located on ridge tops and slopes rather than in valley floors, a pattern that developed over centuries as a strategy for avoiding valley floor hazards such as flooding and malaria. Approximately 85% of the district's villages follow this ridge settlement pattern, which provides natural protection from many hydrological hazards but creates unique vulnerabilities to other types of extreme weather events.The elevation of most settlements ranges from 1,200 to 2,200 meters above sea level, placing them directly within the optimal elevation band for cloudburst formation. This elevation range experiences the highest frequency of extreme precipitation events and represents the zone where atmospheric instability and moisture convergence create ideal conditions for intense convective activity. <br> <br>\n",
      "Accessibility represents a major challenge for emergency response and risk reduction in ridge settlements. Many villages are connected to main transportation networks only by narrow mountain roads that are susceptible to closure due to landslides, washouts, or other weather-related damage. This isolation can delay rescue and relief operations during disaster events and can make it difficult to provide advance warning to communities at risk.The ridge settlement pattern also creates unique challenges for water supply and waste management, as communities must often rely on springs or transported water rather than surface water sources. During extreme precipitation events, these systems can become contaminated or disrupted, creating secondary health hazards that compound the impacts of the primary weather event.' metadata={'source': 'knowledge base\\\\Pauri Garhwal\\\\Ridge_Settlement_Vulnerability.md', 'doc_type': 'Pauri Garhwal'}\n",
      "_________\n",
      "page_content='The district's location along international borders with Tibet and Nepal creates unique challenges for weather monitoring, risk assessment, and disaster response. Limited weather monitoring infrastructure in border areas means that meteorological data may be sparse or incomplete, making it difficult to develop comprehensive understanding of local weather patterns and extreme event risks.Transboundary river flows from Tibet and Nepal can contribute to flood risks within Pithoragarh district, as extreme precipitation events occurring outside Indian territory can create flood waves that affect downstream areas within the district. The management of these transboundary flood risks requires international cooperation and coordination that may be challenging to achieve. <br> <br>\n",
      "Strategic sensitivity considerations limit the extent to which detailed meteorological and hydrological data can be shared across international boundaries, potentially hampering efforts to develop comprehensive early warning systems for transboundary hazards. The remote location of many border areas also creates challenges for emergency response, as access routes may be limited and response times may be extended compared to more accessible areas of the state.' metadata={'source': 'knowledge base\\\\Pithoragarh\\\\Border_Area_Implications.md', 'doc_type': 'Pithoragarh'}\n",
      "_________\n",
      "page_content='The district's reputation for extreme vulnerability stems not just from its physical characteristics but from its demonstrated history of catastrophic events, most notably the 2013 Kedarnath disaster that established new benchmarks for understanding the destructive potential of cloudburst-induced cascading hazards. The lessons learned from this event continue to influence disaster risk reduction strategies throughout the Himalayan region.' metadata={'source': 'knowledge base\\\\Rudraprayag\\\\Critical_Risk_Designation.md', 'doc_type': 'Rudraprayag'}\n",
      "_________\n",
      "page_content='Tertiary impacts extended far beyond the immediate disaster zone and persisted for years after the original event. Sediment choking of downstream channels reduced their capacity and increased flood risk in areas that had not been directly affected by the original cloudburst. Infrastructure destruction was comprehensive, affecting not only buildings and roads in the immediate impact area but also creating cascading effects on transportation, communication, and economic systems throughout the region. Ecosystem disruption occurred across multiple trophic levels and habitat types, with recovery processes continuing more than a decade after the original event.' metadata={'source': 'knowledge base\\\\Rudraprayag\\\\Multi_Hazard_Cascade_Mechanisms.md', 'doc_type': 'Rudraprayag'}\n",
      "_________\n",
      "page_content='## Predictive Model Parameters\n",
      "\n",
      "The development of predictive models for extreme events in Rudraprayag district has been informed by detailed analysis of the 2013 Kedarnath disaster and subsequent research into the physical processes that control cascading hazard development. Critical rainfall thresholds have been established through statistical analysis of historical events and process-based modeling of slope stability conditions.' metadata={'source': 'knowledge base\\\\Rudraprayag\\\\Predictive_Model_Parameters.md', 'doc_type': 'Rudraprayag'}\n",
      "_________\n"
     ]
    }
   ],
   "source": [
    "for chunk in chunks:\n",
    "    if 'disaster' in chunk.page_content:\n",
    "        print(chunk)\n",
    "        print(\"_________\")"
   ]
  },
  {
   "cell_type": "code",
   "execution_count": 12,
   "id": "6f8a99ba",
   "metadata": {},
   "outputs": [],
   "source": [
    "embeddings = OpenAIEmbeddings()"
   ]
  },
  {
   "cell_type": "code",
   "execution_count": 13,
   "id": "6e5d7099",
   "metadata": {},
   "outputs": [],
   "source": [
    "# Check if a Chroma Datastore already exists - if so, delete the collection to start from scratch\n",
    "\n",
    "if os.path.exists(db_name):\n",
    "    Chroma(persist_directory=db_name, embedding_function=embeddings).delete_collection()"
   ]
  },
  {
   "cell_type": "code",
   "execution_count": 14,
   "id": "c238e7ed",
   "metadata": {},
   "outputs": [
    {
     "name": "stdout",
     "output_type": "stream",
     "text": [
      "Vectorstore created with 135 documents\n"
     ]
    }
   ],
   "source": [
    "# Create our Chroma vectorstore!\n",
    "\n",
    "vectorstore = Chroma.from_documents(documents=chunks, embedding=embeddings, persist_directory=db_name)\n",
    "print(f\"Vectorstore created with {vectorstore._collection.count()} documents\")"
   ]
  },
  {
   "cell_type": "code",
   "execution_count": 15,
   "id": "e4524a9a",
   "metadata": {},
   "outputs": [
    {
     "name": "stdout",
     "output_type": "stream",
     "text": [
      "The vectors have 1,536 dimensions\n"
     ]
    }
   ],
   "source": [
    "# Get one vector and find how many dimensions it has\n",
    "\n",
    "collection = vectorstore._collection\n",
    "sample_embedding = collection.get(limit=1, include=[\"embeddings\"])[\"embeddings\"][0]\n",
    "dimensions = len(sample_embedding)\n",
    "print(f\"The vectors have {dimensions:,} dimensions\")"
   ]
  },
  {
   "cell_type": "code",
   "execution_count": 16,
   "id": "44961043",
   "metadata": {},
   "outputs": [
    {
     "data": {
      "text/plain": [
       "array([ 0.01624026,  0.02546609,  0.00811309, ..., -0.01238091,\n",
       "       -0.01204287, -0.01495851], shape=(1536,))"
      ]
     },
     "execution_count": 16,
     "metadata": {},
     "output_type": "execute_result"
    }
   ],
   "source": [
    "sample_embedding"
   ]
  },
  {
   "cell_type": "code",
   "execution_count": 17,
   "id": "82974b40",
   "metadata": {},
   "outputs": [
    {
     "name": "stdout",
     "output_type": "stream",
     "text": [
      "['Almora', 'Almora', 'Almora', 'Almora', 'Bageshwar', 'Bageshwar', 'Bageshwar', 'Bageshwar', 'Chamoli', 'Chamoli', 'Chamoli', 'Chamoli', 'Chamoli', 'Chamoli', 'Chamoli', 'Chamoli', 'Chamoli', 'Chamoli', 'Chamoli', 'Chamoli', 'Champawat', 'Champawat', 'Champawat', 'Champawat', 'Champawat', 'Champawat', 'Champawat', 'Dehradun', 'Dehradun', 'Dehradun', 'Dehradun', 'Dehradun', 'Dehradun', 'Dehradun', 'Dehradun', 'Dehradun', 'Dehradun', 'Dehradun', 'Dehradun', 'Dehradun', 'Dehradun', 'Dehradun', 'Dehradun', 'Dehradun', 'Dehradun', 'Dehradun', 'Haridwar', 'Haridwar', 'Haridwar', 'Haridwar', 'Haridwar', 'Haridwar', 'Haridwar', 'Haridwar', 'Haridwar', 'Haridwar', 'Haridwar', 'Haridwar', 'Haridwar', 'Major_Historical_Events', 'Major_Historical_Events', 'Major_Historical_Events', 'Major_Historical_Events', 'Major_Historical_Events', 'Major_Historical_Events', 'Major_Historical_Events', 'Major_Historical_Events', 'Major_Historical_Events', 'Major_Historical_Events', 'Nainital', 'Nainital', 'Nainital', 'Nainital', 'Nainital', 'Nainital', 'Pauri Garhwal', 'Pauri Garhwal', 'Pauri Garhwal', 'Pauri Garhwal', 'Pauri Garhwal', 'Pauri Garhwal', 'Pithoragarh', 'Pithoragarh', 'Pithoragarh', 'Pithoragarh', 'Pithoragarh', 'Pithoragarh', 'Rudraprayag', 'Rudraprayag', 'Rudraprayag', 'Rudraprayag', 'Rudraprayag', 'Rudraprayag', 'Rudraprayag', 'Rudraprayag', 'Rudraprayag', 'Rudraprayag', 'Rudraprayag', 'Rudraprayag', 'Rudraprayag', 'Rudraprayag', 'Rudraprayag', 'Rudraprayag', 'Tehri Garhwal', 'Tehri Garhwal', 'Tehri Garhwal', 'Tehri Garhwal', 'Tehri Garhwal', 'Tehri Garhwal', 'Tehri Garhwal', 'Tehri Garhwal', 'Udham Singh Nagar', 'Udham Singh Nagar', 'Udham Singh Nagar', 'Udham Singh Nagar', 'Udham Singh Nagar', 'Udham Singh Nagar', 'Uttarkashi', 'Uttarkashi', 'Uttarkashi', 'Uttarkashi', 'Uttarkashi', 'Uttarkashi', 'Uttarkashi', 'Uttarkashi', 'Uttarkashi', 'Uttarkashi', 'Uttarkashi', 'Uttarkashi', 'Uttarkashi', 'Uttarkashi', 'Uttarkashi', 'Uttarkashi', 'Uttarkashi', 'Uttarkashi']\n",
      "19\n"
     ]
    }
   ],
   "source": [
    "# Prework\n",
    "\n",
    "result = collection.get(include=['embeddings', 'documents', 'metadatas'])\n",
    "vectors = np.array(result['embeddings'])\n",
    "documents = result['documents']\n",
    "doc_types = [metadata['doc_type'] for metadata in result['metadatas']]\n",
    "print(doc_types)\n",
    "\n",
    "colors = [['blue', 'green', 'red', 'orange', 'black', 'purple','brown']\n",
    "          [['Almora', 'Dehradun', 'Haridwar', 'Nanital', 'Uttarkashi','Tehri', 'Rudraprayag'].index(t)]\n",
    "          for t in doc_types if t in ['Almora', 'Dehradun', 'Haridwar', 'Nanital', 'Uttarkashi','Tehri', 'Rudraprayag']]\n",
    "\n",
    "\n",
    "print(colors.count('green'))\n",
    "\n",
    "\n"
   ]
  },
  {
   "cell_type": "code",
   "execution_count": 18,
   "id": "e820e6c7",
   "metadata": {},
   "outputs": [
    {
     "data": {
      "application/vnd.plotly.v1+json": {
       "config": {
        "plotlyServerURL": "https://plot.ly"
       },
       "data": [
        {
         "hoverinfo": "text",
         "marker": {
          "color": [
           "blue",
           "blue",
           "blue",
           "blue",
           "green",
           "green",
           "green",
           "green",
           "green",
           "green",
           "green",
           "green",
           "green",
           "green",
           "green",
           "green",
           "green",
           "green",
           "green",
           "green",
           "green",
           "green",
           "green",
           "red",
           "red",
           "red",
           "red",
           "red",
           "red",
           "red",
           "red",
           "red",
           "red",
           "red",
           "red",
           "red",
           "brown",
           "brown",
           "brown",
           "brown",
           "brown",
           "brown",
           "brown",
           "brown",
           "brown",
           "brown",
           "brown",
           "brown",
           "brown",
           "brown",
           "brown",
           "brown",
           "black",
           "black",
           "black",
           "black",
           "black",
           "black",
           "black",
           "black",
           "black",
           "black",
           "black",
           "black",
           "black",
           "black",
           "black",
           "black",
           "black",
           "black"
          ],
          "opacity": 0.8,
          "size": 5
         },
         "mode": "markers",
         "text": [
          "Type: Almora<br>Text: ## Kumaon Hills Characteristics...",
          "Type: Almora<br>Text: Almora district represents the heart of the Kumaon Hills region, characterized by a complex ridge-va...",
          "Type: Almora<br>Text: ## Soil Conservation Practices...",
          "Type: Almora<br>Text: Traditional soil conservation methods in Almora district include the chaur system of terrace farming...",
          "Type: Bageshwar<br>Text: ## Glacial Influence...",
          "Type: Bageshwar<br>Text: The Pindari Glacier, with a length of 3.2 kilometers, represents one of the most accessible glacial ...",
          "Type: Bageshwar<br>Text: ## River Confluence Dynamics...",
          "Type: Bageshwar<br>Text: Bageshwar district derives its name and much of its hydrological character from the confluence of th...",
          "Type: Chamoli<br>Text: ##  Advanced Risk Zonation\n\nRisk zonation within Chamoli district reflects the complex interaction b...",
          "Type: Chamoli<br>Text: The Pindar valley represents another extremely high-risk area where glacier retreat has created unst...",
          "Type: Chamoli<br>Text: Moderate-risk areas include lower elevation settlements that are far enough from direct glacial infl...",
          "Type: Chamoli<br>Text: ## Complex Meteorological Environment\n\nThe meteorological environment in Chamoli district is charact...",
          "Type: Chamoli<br>Text: Glacial influence on local climate patterns is profound and multifaceted. Katabatic winds flowing do...",
          "Type: Chamoli<br>Text: Extreme weather patterns in Chamoli result from the interaction of multiple atmospheric circulation ...",
          "Type: Chamoli<br>Text: ## Extreme Terrain Classification\n\nChamoli district encompasses 7,520 square kilometers of some of t...",
          "Type: Chamoli<br>Text: The district contains 47 peaks exceeding 6,000 meters in elevation, creating a landscape of extraord...",
          "Type: Chamoli<br>Text: Valley systems throughout Chamoli are characterized by their extreme depth and narrow width, with mo...",
          "Type: Chamoli<br>Text: ## Glacial Lake Inventory & GLOF Risk\n\n\nThe glacial lake inventory for Chamoli district reveals 341 ...",
          "Type: Chamoli<br>Text: The historical record of glacial lake outburst floods in Chamoli includes the devastating Gohna Lake...",
          "Type: Chamoli<br>Text: The 2021 Chamoli flash flood represents the most recent example of the complex interaction between g...",
          "Type: Champawat<br>Text: ## Agricultural and Development Patterns...",
          "Type: Champawat<br>Text: The Ram Ganga River acts as a border between Champawat and Pithoragarh districts, creating important...",
          "Type: Champawat<br>Text: ## Geographic and Demographic Profile...",
          "Type: Champawat<br>Text: Champawat district represents one of the eastern-most districts of Uttarakhand, strategically positi...",
          "Type: Champawat<br>Text: ## Lower Elevation Characteristics and Risk Profile\n\nChampawat district represents one of the lower ...",
          "Type: Champawat<br>Text: However, the district's elevation profile places it in a transitional zone where 69.32% of the total...",
          "Type: Champawat<br>Text: Flash flood risk represents the primary hydrological hazard concern rather than direct cloudburst im...",
          "Type: Dehradun<br>Text: ## Advanced Meteorological Profile...",
          "Type: Dehradun<br>Text: Dehradun's meteorological characteristics reflect its position at the transition between the subtrop...",
          "Type: Dehradun<br>Text: Temperature extremes in the district reflect both its elevation range and seasonal variations. The m...",
          "Type: Dehradun<br>Text: Humidity patterns show dramatic seasonal variations, ranging from 85-95% during the monsoon period w...",
          "Type: Dehradun<br>Text: Wind patterns across the district are influenced by both large-scale circulation patterns and local ...",
          "Type: Dehradun<br>Text: ## Cloudburst Risk Assessment\n\nBased on historical data and current understanding of atmospheric and...",
          "Type: Dehradun<br>Text: Prediction indicators specific to Dehradun district include orographic lifting effects on the southe...",
          "Type: Dehradun<br>Text: ## Detailed Topographical Profile\n\nDehradun district occupies a strategically important position in ...",
          "Type: Dehradun<br>Text: The famous Doon Valley forms the heart of the district, representing a classic intermontane valley t...",
          "Type: Dehradun<br>Text: Slope analysis across the district reveals a varied topographic profile that influences both settlem...",
          "Type: Dehradun<br>Text: ## Geological and Soil Classification\n\nThe geological foundation of Dehradun district comprises seve...",
          "Type: Dehradun<br>Text: The Doon Gravel formation represents Quaternary alluvium that has been deposited in the valley floor...",
          "Type: Dehradun<br>Text: Soil classification across the district reflects the interaction between geological parent materials...",
          "Type: Dehradun<br>Text: Soil characteristics vary significantly across the district but generally show pH values ranging fro...",
          "Type: Dehradun<br>Text: ##  Hydrological Network\n\nThe hydrological network of Dehradun district is dominated by the Yamuna r...",
          "Type: Dehradun<br>Text: The drainage density across the district averages 0.85 kilometers per square kilometer, indicating a...",
          "Type: Dehradun<br>Text: ## Urbanization and Land Use Impact\n\nUrbanization has significantly altered the natural landscape an...",
          "Type: Dehradun<br>Text: Forest cover still accounts for 1,016 square kilometers or 32.9% of the district, providing importan...",
          "Type: Dehradun<br>Text: The urban heat island effect has become increasingly pronounced in Dehradun city, with temperature d...",
          "Type: Haridwar<br>Text: ## Comprehensive Geographical Profile\n\n\nHaridwar district occupies a unique position in Uttarakhand'...",
          "Type: Haridwar<br>Text: The elevation range across the district is relatively modest compared to other areas of Uttarakhand,...",
          "Type: Haridwar<br>Text: The terrain classification shows that approximately 85% of the district consists of plains areas, wi...",
          "Type: Haridwar<br>Text: ## Geological Foundation\n\nThe geological foundation of Haridwar district consists primarily of Quate...",
          "Type: Haridwar<br>Text: Soil types reflect this geological foundation, with new alluvium comprising approximately 70% of the...",
          "Type: Haridwar<br>Text: The fertility of alluvial soils is generally high due to their nutrient-rich composition, particular...",
          "Type: Haridwar<br>Text: ## Meteorological Characteristics\n\nThe meteorological characteristics of Haridwar district reflect i...",
          "Type: Haridwar<br>Text: Monsoon dependency is pronounced, with 82% of annual rainfall occurring during the June through Sept...",
          "Type: Haridwar<br>Text: Temperature profiles show the influence of both continental and subtropical climate characteristics....",
          "Type: Haridwar<br>Text: Humidity variations across the year range from 25% during the driest periods to 90% during peak mons...",
          "Type: Haridwar<br>Text: ## Risk Factors\n\nCloudburst risk in Haridwar district is classified as low to moderate due to the li...",
          "Type: Haridwar<br>Text: ## River Systems & Hydrology\n\nThe hydrological systems of Haridwar district are dominated by the Gan...",
          "Type: Haridwar<br>Text: Canal systems, including the Upper Ganges Canal and the Roorkee canal system, represent significant ...",
          "Type: Major_Historical_Events<br>Text: # Major Historical Events (1970–2025)\n\n## 2025 Uttarkashi Flash Flood (Dharali / Kheer Ganga)\n\nOn **...",
          "Type: Major_Historical_Events<br>Text: All converged to produce devastating floods that swept through the narrow valleys.\n\n### Impacts\n- **...",
          "Type: Major_Historical_Events<br>Text: ### Significance\nThe Uttarkashi flash flood highlights the compounding role of climate change in amp...",
          "Type: Major_Historical_Events<br>Text: ### Date & Location\n- **Event date**: 7 February 2021  \n- **District**: Chamoli, Uttarakhand (outer ...",
          "Type: Major_Historical_Events<br>Text: ### Casualties & Missing\n- **Confirmed fatalities**: ~83 people  \n- **Missing / presumed missing**: ...",
          "Type: Major_Historical_Events<br>Text: ### Response / Relief\n- **NDRF, Indian Army, and Air Force** deployed for rescue operations.  \n- Eme...",
          "Type: Major_Historical_Events<br>Text: ---\n\n## 2013 Kedarnath Catastrophe\n\nBetween **15–17 June 2013**, the Kedarnath region of Rudraprayag...",
          "Type: Major_Historical_Events<br>Text: ### Impacts\n- **Casualties**:  \n  - Official death toll: ~5,700 presumed dead  \n  - Government compi...",
          "Type: Major_Historical_Events<br>Text: ### Significance\nThe Kedarnath tragedy remains the benchmark Himalayan disaster — a defining example...",
          "Type: Major_Historical_Events<br>Text: ### Casualties\n- Reports vary, citing **19 to 39 fatalities** across different government and media ...",
          "Type: Nainital<br>Text: ## Lake District Characteristics and Geographic Profile...",
          "Type: Nainital<br>Text: Nainital district covers a total geographical area of 4,251 square kilometers and is geographically ...",
          "Type: Nainital<br>Text: ## Lake Effect and Microclimate Impacts...",
          "Type: Nainital<br>Text: The presence of multiple water bodies can modify local temperature and humidity patterns in ways tha...",
          "Type: Nainital<br>Text: ## Tourism and Urban Development Impacts...",
          "Type: Nainital<br>Text: Tourism infrastructure throughout the district creates seasonal concentrations of population that ma...",
          "Type: Pauri Garhwal<br>Text: ## Forest Fire Interaction...",
          "Type: Pauri Garhwal<br>Text: Forest fire frequency in Pauri Garhwal district has shown an increasing trend over recent decades, w...",
          "Type: Pauri Garhwal<br>Text: ## Ridge Settlement Vulnerability...",
          "Type: Pauri Garhwal<br>Text: Pauri Garhwal district exemplifies the traditional Himalayan settlement pattern where communities ar...",
          "Type: Pauri Garhwal<br>Text: ## Terraced Agriculture Impact...",
          "Type: Pauri Garhwal<br>Text: Traditional terraced agriculture systems cover approximately 67% of the district's cultivated area, ...",
          "Type: Pithoragarh<br>Text: ## Border Area Implications...",
          "Type: Pithoragarh<br>Text: The district's location along international borders with Tibet and Nepal creates unique challenges f...",
          "Type: Pithoragarh<br>Text: ## High Altitude Cloudbursts...",
          "Type: Pithoragarh<br>Text: High altitude cloudbursts in Pithoragarh district represent a unique category of extreme precipitati...",
          "Type: Pithoragarh<br>Text: ## Trans-Himalayan Characteristics...",
          "Type: Pithoragarh<br>Text: Pithoragarh district occupies a unique position in Uttarakhand's geography due to its location in th...",
          "Type: Rudraprayag<br>Text: ## Critical Risk Designation\n\nRudraprayag district holds the distinction of being classified by the ...",
          "Type: Rudraprayag<br>Text: Covering 1,984 square kilometers of mountainous terrain, Rudraprayag occupies the strategically crit...",
          "Type: Rudraprayag<br>Text: The district's reputation for extreme vulnerability stems not just from its physical characteristics...",
          "Type: Rudraprayag<br>Text: ## Extreme Topographical Vulnerability\n\nThe topographical characteristics of Rudraprayag district re...",
          "Type: Rudraprayag<br>Text: The remaining terrain includes 20% with steep slopes between 15 and 30 degrees and only 5% with gent...",
          "Type: Rudraprayag<br>Text: Valley characteristics throughout the district are uniformly challenging, with deep V-shaped valleys...",
          "Type: Rudraprayag<br>Text: Confluence amplification zones represent particular areas of extreme vulnerability where multiple ri...",
          "Type: Rudraprayag<br>Text: ## Geological Instability\n\n\nThe geological foundation of Rudraprayag district represents one of the ...",
          "Type: Rudraprayag<br>Text: Multiple active fault systems traverse the district, creating planes of weakness that predispose slo...",
          "Type: Rudraprayag<br>Text: Landslide statistics for the district are staggering, with 2,847 active landslides mapped and monito...",
          "Type: Rudraprayag<br>Text: ## Multi-Hazard Cascade Mechanisms\n\nThe 2013 Kedarnath event demonstrated the complex multi-hazard c...",
          "Type: Rudraprayag<br>Text: Dam breach floods, representing tertiary impacts, occurred when these temporary barriers were overto...",
          "Type: Rudraprayag<br>Text: Tertiary impacts extended far beyond the immediate disaster zone and persisted for years after the o...",
          "Type: Rudraprayag<br>Text: ## Predictive Model Parameters\n\nThe development of predictive models for extreme events in Rudrapray...",
          "Type: Rudraprayag<br>Text: Landslide initiation typically occurs when rainfall intensities reach 50 millimeters per hour sustai...",
          "Type: Rudraprayag<br>Text: Antecedent conditions play a crucial role in determining the susceptibility of slopes to failure dur...",
          "Type: Tehri Garhwal<br>Text: ## Geological Challenges...",
          "Type: Tehri Garhwal<br>Text: The creation of the Tehri reservoir has introduced new geological hazards and modified existing haza...",
          "Type: Tehri Garhwal<br>Text: ## Microclimate Modification...",
          "Type: Tehri Garhwal<br>Text: The presence of the large reservoir has created significant modifications to local microclimate cond...",
          "Type: Tehri Garhwal<br>Text: ## Reservoir-Modified Environment...",
          "Type: Tehri Garhwal<br>Text: Tehri Garhwal district occupies a unique position in Uttarakhand's risk landscape due to the presenc...",
          "Type: Tehri Garhwal<br>Text: ## Resettlement Impact on Vulnerability...",
          "Type: Tehri Garhwal<br>Text: The resettlement of 125,000 displaced people has created new patterns of vulnerability that may incr...",
          "Type: Udham Singh Nagar<br>Text: ## Agricultural and Industrial Development Profile...",
          "Type: Udham Singh Nagar<br>Text: The district is named in honor of the revered freedom fighter Shaheed Udham Singh and radiates with ...",
          "Type: Udham Singh Nagar<br>Text: ## Cultural and Social Complexity...",
          "Type: Udham Singh Nagar<br>Text: The district exemplifies 'Unity in Diversity' for which India is widely known, with different cultur...",
          "Type: Udham Singh Nagar<br>Text: ## Plains Transition Zone Characteristics...",
          "Type: Udham Singh Nagar<br>Text: Udham Singh Nagar district is situated in the lush Terai region of Uttarakhand and was established i...",
          "Type: Uttarkashi<br>Text: ## Advanced Meteorological Analysis...",
          "Type: Uttarkashi<br>Text: The meteorological conditions in Uttarkashi district represent some of the most extreme and variable...",
          "Type: Uttarkashi<br>Text: ## Comprehensive Risk Profile\n\n\nUttarkashi district represents the epicenter of cloudburst risk in U...",
          "Type: Uttarkashi<br>Text: The elevation spectrum across Uttarkashi is truly extraordinary, ranging from 1,000 meters above sea...",
          "Type: Uttarkashi<br>Text: Statistical analysis of cloudburst events across Uttarakhand reveals that 66% of all documented clou...",
          "Type: Uttarkashi<br>Text: ## Extreme Topographical Features\n\n\nThe topographical characteristics of Uttarkashi district are dom...",
          "Type: Uttarkashi<br>Text: The average gradient throughout the valley system ranges from 15 to 45 degrees, with many sections s...",
          "Type: Uttarkashi<br>Text: Convergence zones within the district represent particular areas of elevated risk where multiple val...",
          "Type: Uttarkashi<br>Text: The glacial influence throughout Uttarkashi district adds another layer of complexity and risk to th...",
          "Type: Uttarkashi<br>Text: ## Geological Vulnerability\n\nThe geological foundation of Uttarkashi district contributes significan...",
          "Type: Uttarkashi<br>Text: The presence of Gangotri Granite throughout much of the district creates additional complexity in th...",
          "Type: Uttarkashi<br>Text: Structural geological features add another dimension to the hazard profile, with the Main Central Th...",
          "Type: Uttarkashi<br>Text: Landslide susceptibility throughout Uttarkashi district is classified as very high, with 847 active ...",
          "Type: Uttarkashi<br>Text: ## Hydrological Complexity\n\nThe hydrological systems of Uttarkashi district are characterized by ext...",
          "Type: Uttarkashi<br>Text: The tributary network within the district adds layers of complexity to the hydrological system. The ...",
          "Type: Uttarkashi<br>Text: The presence of 86 glacial lakes within the district creates the potential for glacial lake outburst...",
          "Type: Uttarkashi<br>Text: ##  Predictive Indicators\n\nMeteorological precursors that may indicate elevated cloudburst risk in U...",
          "Type: Uttarkashi<br>Text: Critical threshold values for the district include rainfall intensities exceeding 80 millimeters per..."
         ],
         "type": "scatter",
         "x": {
          "bdata": "P/DUQPOELT9RVWI+urmPPUi89j4oBpLAHl4UwOv0C8Cy/ZbAVSCVwFAmCsBPdC7Aps7oO6A7ZMA1vb6/hDCMwEbiiT9aEqvAJLnPwBam4sAHO4dA2gKXvw+gtUBmGStAFZYwQPg9UEAdEDvASBQKQSrn2r8QbCzAZ9yuwODUlcDe1k3AmCqdwDQp7T4UD5w+OLAiQIW4qUD0x8xAJPr0QDrKCUFom13AzTEHP59nmcCy3mRAQoGuwNm5HT/zXii9Ft/dPpcLsUDJFfpAykgLQSyZmr8MFcTAvmozwHRTqMAKij7AzN8pwH0DhL/abg3BKKw0weUmB8FgmQfBM2w9wcPQJcGTDhbBNgFDwboGGcFqNy3B/e+9QG4Ns8AMf69AnRDiwFTOTEDvlsrAqMgdwTfmEMGolI1AqJCPPuubIUB+gM8+2IRaQOk2i8BImQbBWNn7wPHV30DCx0rAySYdQGMml7+JwfjAtFMWQL5ENEAEO6c/LmAOwMMhbUBQhLdAWqaUQAC9C8GxS0jBvd5EwcERCsFq3TnBVlw3wRLxAUDNTOLAI6u5QLSW6MAya8NAJ/bCwIdHgEB8TGBAqWeVQFMZEkDEHD9AYKGpP7L+/kDfqtA/Jt4KQeAMHsDP+s2/4gGSv6G9CcAeq0W+emLFP7vHGcB9Jp3Ay4l7QKt2jUDtFLFAgA2gv1+ZHcDPSkjAQJ2pwA74QMAVnDLB",
          "dtype": "f4"
         },
         "y": {
          "bdata": "5xrawLkvqb+nKDBBxH8iQV9T40Athug/kZXWQHe4uD8h6n1A0WofQDKck0CA9vvAvHzJQNlw9cDjegbBLYAIwUUnED8Vfp5A8PK4QK3osUDyEUhBFT3GvduhPUGZR+rAMEvmwN8T3T/O0oZAHOYyQZjs1MDc0TrByskuwWy/HMGewkzAX7N4wAx488CPSAfBXe1RQI/mO8CGGhnAdV8YQG3e6T9cwBu+TckNQIP2BsA1vq8/Q15FwPvQ0cCWNKbAXMCAwASXS8DtoSRAvtc6QJGL0cBXUDbBi1I7wZNIKsGGIRjAy0gPPjJdKz/2Kp5A1ZShQG6rs0A3UcZAYWSjQBlRjEBi4zxA/ZqQQL5AK0DQtCRATHU1QZBq1cCVhxZB45KAwEuuK0EO/aHAjNy5v57w/79pf8VAUWaSv5cFHkGMMxlBXOwRQefNr8BPMujAS0fjwDmZ0sDcNrjAowO5vz8zHUB2LeI/fJrCv4NxXkCYpu0/qFuoQNp76b/mTSE/BaE8QL51/D8rxps+iJmuPsrYmD+SZHjAICJ4wHy4+EDymVi/kwAPQTVmbMCin/9A1NYSv2YozUBVbrBAQmxHQdWQhMCX/UFBRN1uwBTut8C557rAmoYyQdRyocAF4GTAxK+UwBEcc8BorkLAzUdgQKNmEECEljQ/z/ozwAhIf792WxU/CMQYwBMPLr9FUIY//Jm3QNImhcABfpPA",
          "dtype": "f4"
         }
        }
       ],
       "layout": {
        "height": 600,
        "margin": {
         "b": 10,
         "l": 10,
         "r": 20,
         "t": 40
        },
        "scene": {
         "xaxis": {
          "title": {
           "text": "x"
          }
         },
         "yaxis": {
          "title": {
           "text": "y"
          }
         }
        },
        "template": {
         "data": {
          "bar": [
           {
            "error_x": {
             "color": "#2a3f5f"
            },
            "error_y": {
             "color": "#2a3f5f"
            },
            "marker": {
             "line": {
              "color": "#E5ECF6",
              "width": 0.5
             },
             "pattern": {
              "fillmode": "overlay",
              "size": 10,
              "solidity": 0.2
             }
            },
            "type": "bar"
           }
          ],
          "barpolar": [
           {
            "marker": {
             "line": {
              "color": "#E5ECF6",
              "width": 0.5
             },
             "pattern": {
              "fillmode": "overlay",
              "size": 10,
              "solidity": 0.2
             }
            },
            "type": "barpolar"
           }
          ],
          "carpet": [
           {
            "aaxis": {
             "endlinecolor": "#2a3f5f",
             "gridcolor": "white",
             "linecolor": "white",
             "minorgridcolor": "white",
             "startlinecolor": "#2a3f5f"
            },
            "baxis": {
             "endlinecolor": "#2a3f5f",
             "gridcolor": "white",
             "linecolor": "white",
             "minorgridcolor": "white",
             "startlinecolor": "#2a3f5f"
            },
            "type": "carpet"
           }
          ],
          "choropleth": [
           {
            "colorbar": {
             "outlinewidth": 0,
             "ticks": ""
            },
            "type": "choropleth"
           }
          ],
          "contour": [
           {
            "colorbar": {
             "outlinewidth": 0,
             "ticks": ""
            },
            "colorscale": [
             [
              0,
              "#0d0887"
             ],
             [
              0.1111111111111111,
              "#46039f"
             ],
             [
              0.2222222222222222,
              "#7201a8"
             ],
             [
              0.3333333333333333,
              "#9c179e"
             ],
             [
              0.4444444444444444,
              "#bd3786"
             ],
             [
              0.5555555555555556,
              "#d8576b"
             ],
             [
              0.6666666666666666,
              "#ed7953"
             ],
             [
              0.7777777777777778,
              "#fb9f3a"
             ],
             [
              0.8888888888888888,
              "#fdca26"
             ],
             [
              1,
              "#f0f921"
             ]
            ],
            "type": "contour"
           }
          ],
          "contourcarpet": [
           {
            "colorbar": {
             "outlinewidth": 0,
             "ticks": ""
            },
            "type": "contourcarpet"
           }
          ],
          "heatmap": [
           {
            "colorbar": {
             "outlinewidth": 0,
             "ticks": ""
            },
            "colorscale": [
             [
              0,
              "#0d0887"
             ],
             [
              0.1111111111111111,
              "#46039f"
             ],
             [
              0.2222222222222222,
              "#7201a8"
             ],
             [
              0.3333333333333333,
              "#9c179e"
             ],
             [
              0.4444444444444444,
              "#bd3786"
             ],
             [
              0.5555555555555556,
              "#d8576b"
             ],
             [
              0.6666666666666666,
              "#ed7953"
             ],
             [
              0.7777777777777778,
              "#fb9f3a"
             ],
             [
              0.8888888888888888,
              "#fdca26"
             ],
             [
              1,
              "#f0f921"
             ]
            ],
            "type": "heatmap"
           }
          ],
          "histogram": [
           {
            "marker": {
             "pattern": {
              "fillmode": "overlay",
              "size": 10,
              "solidity": 0.2
             }
            },
            "type": "histogram"
           }
          ],
          "histogram2d": [
           {
            "colorbar": {
             "outlinewidth": 0,
             "ticks": ""
            },
            "colorscale": [
             [
              0,
              "#0d0887"
             ],
             [
              0.1111111111111111,
              "#46039f"
             ],
             [
              0.2222222222222222,
              "#7201a8"
             ],
             [
              0.3333333333333333,
              "#9c179e"
             ],
             [
              0.4444444444444444,
              "#bd3786"
             ],
             [
              0.5555555555555556,
              "#d8576b"
             ],
             [
              0.6666666666666666,
              "#ed7953"
             ],
             [
              0.7777777777777778,
              "#fb9f3a"
             ],
             [
              0.8888888888888888,
              "#fdca26"
             ],
             [
              1,
              "#f0f921"
             ]
            ],
            "type": "histogram2d"
           }
          ],
          "histogram2dcontour": [
           {
            "colorbar": {
             "outlinewidth": 0,
             "ticks": ""
            },
            "colorscale": [
             [
              0,
              "#0d0887"
             ],
             [
              0.1111111111111111,
              "#46039f"
             ],
             [
              0.2222222222222222,
              "#7201a8"
             ],
             [
              0.3333333333333333,
              "#9c179e"
             ],
             [
              0.4444444444444444,
              "#bd3786"
             ],
             [
              0.5555555555555556,
              "#d8576b"
             ],
             [
              0.6666666666666666,
              "#ed7953"
             ],
             [
              0.7777777777777778,
              "#fb9f3a"
             ],
             [
              0.8888888888888888,
              "#fdca26"
             ],
             [
              1,
              "#f0f921"
             ]
            ],
            "type": "histogram2dcontour"
           }
          ],
          "mesh3d": [
           {
            "colorbar": {
             "outlinewidth": 0,
             "ticks": ""
            },
            "type": "mesh3d"
           }
          ],
          "parcoords": [
           {
            "line": {
             "colorbar": {
              "outlinewidth": 0,
              "ticks": ""
             }
            },
            "type": "parcoords"
           }
          ],
          "pie": [
           {
            "automargin": true,
            "type": "pie"
           }
          ],
          "scatter": [
           {
            "fillpattern": {
             "fillmode": "overlay",
             "size": 10,
             "solidity": 0.2
            },
            "type": "scatter"
           }
          ],
          "scatter3d": [
           {
            "line": {
             "colorbar": {
              "outlinewidth": 0,
              "ticks": ""
             }
            },
            "marker": {
             "colorbar": {
              "outlinewidth": 0,
              "ticks": ""
             }
            },
            "type": "scatter3d"
           }
          ],
          "scattercarpet": [
           {
            "marker": {
             "colorbar": {
              "outlinewidth": 0,
              "ticks": ""
             }
            },
            "type": "scattercarpet"
           }
          ],
          "scattergeo": [
           {
            "marker": {
             "colorbar": {
              "outlinewidth": 0,
              "ticks": ""
             }
            },
            "type": "scattergeo"
           }
          ],
          "scattergl": [
           {
            "marker": {
             "colorbar": {
              "outlinewidth": 0,
              "ticks": ""
             }
            },
            "type": "scattergl"
           }
          ],
          "scattermap": [
           {
            "marker": {
             "colorbar": {
              "outlinewidth": 0,
              "ticks": ""
             }
            },
            "type": "scattermap"
           }
          ],
          "scattermapbox": [
           {
            "marker": {
             "colorbar": {
              "outlinewidth": 0,
              "ticks": ""
             }
            },
            "type": "scattermapbox"
           }
          ],
          "scatterpolar": [
           {
            "marker": {
             "colorbar": {
              "outlinewidth": 0,
              "ticks": ""
             }
            },
            "type": "scatterpolar"
           }
          ],
          "scatterpolargl": [
           {
            "marker": {
             "colorbar": {
              "outlinewidth": 0,
              "ticks": ""
             }
            },
            "type": "scatterpolargl"
           }
          ],
          "scatterternary": [
           {
            "marker": {
             "colorbar": {
              "outlinewidth": 0,
              "ticks": ""
             }
            },
            "type": "scatterternary"
           }
          ],
          "surface": [
           {
            "colorbar": {
             "outlinewidth": 0,
             "ticks": ""
            },
            "colorscale": [
             [
              0,
              "#0d0887"
             ],
             [
              0.1111111111111111,
              "#46039f"
             ],
             [
              0.2222222222222222,
              "#7201a8"
             ],
             [
              0.3333333333333333,
              "#9c179e"
             ],
             [
              0.4444444444444444,
              "#bd3786"
             ],
             [
              0.5555555555555556,
              "#d8576b"
             ],
             [
              0.6666666666666666,
              "#ed7953"
             ],
             [
              0.7777777777777778,
              "#fb9f3a"
             ],
             [
              0.8888888888888888,
              "#fdca26"
             ],
             [
              1,
              "#f0f921"
             ]
            ],
            "type": "surface"
           }
          ],
          "table": [
           {
            "cells": {
             "fill": {
              "color": "#EBF0F8"
             },
             "line": {
              "color": "white"
             }
            },
            "header": {
             "fill": {
              "color": "#C8D4E3"
             },
             "line": {
              "color": "white"
             }
            },
            "type": "table"
           }
          ]
         },
         "layout": {
          "annotationdefaults": {
           "arrowcolor": "#2a3f5f",
           "arrowhead": 0,
           "arrowwidth": 1
          },
          "autotypenumbers": "strict",
          "coloraxis": {
           "colorbar": {
            "outlinewidth": 0,
            "ticks": ""
           }
          },
          "colorscale": {
           "diverging": [
            [
             0,
             "#8e0152"
            ],
            [
             0.1,
             "#c51b7d"
            ],
            [
             0.2,
             "#de77ae"
            ],
            [
             0.3,
             "#f1b6da"
            ],
            [
             0.4,
             "#fde0ef"
            ],
            [
             0.5,
             "#f7f7f7"
            ],
            [
             0.6,
             "#e6f5d0"
            ],
            [
             0.7,
             "#b8e186"
            ],
            [
             0.8,
             "#7fbc41"
            ],
            [
             0.9,
             "#4d9221"
            ],
            [
             1,
             "#276419"
            ]
           ],
           "sequential": [
            [
             0,
             "#0d0887"
            ],
            [
             0.1111111111111111,
             "#46039f"
            ],
            [
             0.2222222222222222,
             "#7201a8"
            ],
            [
             0.3333333333333333,
             "#9c179e"
            ],
            [
             0.4444444444444444,
             "#bd3786"
            ],
            [
             0.5555555555555556,
             "#d8576b"
            ],
            [
             0.6666666666666666,
             "#ed7953"
            ],
            [
             0.7777777777777778,
             "#fb9f3a"
            ],
            [
             0.8888888888888888,
             "#fdca26"
            ],
            [
             1,
             "#f0f921"
            ]
           ],
           "sequentialminus": [
            [
             0,
             "#0d0887"
            ],
            [
             0.1111111111111111,
             "#46039f"
            ],
            [
             0.2222222222222222,
             "#7201a8"
            ],
            [
             0.3333333333333333,
             "#9c179e"
            ],
            [
             0.4444444444444444,
             "#bd3786"
            ],
            [
             0.5555555555555556,
             "#d8576b"
            ],
            [
             0.6666666666666666,
             "#ed7953"
            ],
            [
             0.7777777777777778,
             "#fb9f3a"
            ],
            [
             0.8888888888888888,
             "#fdca26"
            ],
            [
             1,
             "#f0f921"
            ]
           ]
          },
          "colorway": [
           "#636efa",
           "#EF553B",
           "#00cc96",
           "#ab63fa",
           "#FFA15A",
           "#19d3f3",
           "#FF6692",
           "#B6E880",
           "#FF97FF",
           "#FECB52"
          ],
          "font": {
           "color": "#2a3f5f"
          },
          "geo": {
           "bgcolor": "white",
           "lakecolor": "white",
           "landcolor": "#E5ECF6",
           "showlakes": true,
           "showland": true,
           "subunitcolor": "white"
          },
          "hoverlabel": {
           "align": "left"
          },
          "hovermode": "closest",
          "mapbox": {
           "style": "light"
          },
          "paper_bgcolor": "white",
          "plot_bgcolor": "#E5ECF6",
          "polar": {
           "angularaxis": {
            "gridcolor": "white",
            "linecolor": "white",
            "ticks": ""
           },
           "bgcolor": "#E5ECF6",
           "radialaxis": {
            "gridcolor": "white",
            "linecolor": "white",
            "ticks": ""
           }
          },
          "scene": {
           "xaxis": {
            "backgroundcolor": "#E5ECF6",
            "gridcolor": "white",
            "gridwidth": 2,
            "linecolor": "white",
            "showbackground": true,
            "ticks": "",
            "zerolinecolor": "white"
           },
           "yaxis": {
            "backgroundcolor": "#E5ECF6",
            "gridcolor": "white",
            "gridwidth": 2,
            "linecolor": "white",
            "showbackground": true,
            "ticks": "",
            "zerolinecolor": "white"
           },
           "zaxis": {
            "backgroundcolor": "#E5ECF6",
            "gridcolor": "white",
            "gridwidth": 2,
            "linecolor": "white",
            "showbackground": true,
            "ticks": "",
            "zerolinecolor": "white"
           }
          },
          "shapedefaults": {
           "line": {
            "color": "#2a3f5f"
           }
          },
          "ternary": {
           "aaxis": {
            "gridcolor": "white",
            "linecolor": "white",
            "ticks": ""
           },
           "baxis": {
            "gridcolor": "white",
            "linecolor": "white",
            "ticks": ""
           },
           "bgcolor": "#E5ECF6",
           "caxis": {
            "gridcolor": "white",
            "linecolor": "white",
            "ticks": ""
           }
          },
          "title": {
           "x": 0.05
          },
          "xaxis": {
           "automargin": true,
           "gridcolor": "white",
           "linecolor": "white",
           "ticks": "",
           "title": {
            "standoff": 15
           },
           "zerolinecolor": "white",
           "zerolinewidth": 2
          },
          "yaxis": {
           "automargin": true,
           "gridcolor": "white",
           "linecolor": "white",
           "ticks": "",
           "title": {
            "standoff": 15
           },
           "zerolinecolor": "white",
           "zerolinewidth": 2
          }
         }
        },
        "title": {
         "text": "2D Chroma Vector Store Visualization"
        },
        "width": 800
       }
      }
     },
     "metadata": {},
     "output_type": "display_data"
    }
   ],
   "source": [
    "# Reduce the dimensionality of the vectors to 2D using t-SNE\n",
    "# (t-distributed stochastic neighbor embedding)\n",
    "\n",
    "tsne = TSNE(n_components=2, random_state=42)\n",
    "reduced_vectors = tsne.fit_transform(vectors)\n",
    "\n",
    "# Create the 2D scatter plot\n",
    "fig = go.Figure(data=[go.Scatter(\n",
    "    x=reduced_vectors[:, 0],\n",
    "    y=reduced_vectors[:, 1],\n",
    "    mode='markers',\n",
    "    marker=dict(size=5, color=colors, opacity=0.8),\n",
    "    text=[f\"Type: {t}<br>Text: {d[:100]}...\" for t, d in zip(doc_types, documents)],\n",
    "    hoverinfo='text'\n",
    ")])\n",
    "\n",
    "fig.update_layout(\n",
    "    title='2D Chroma Vector Store Visualization',\n",
    "    scene=dict(xaxis_title='x',yaxis_title='y'),\n",
    "    width=800,\n",
    "    height=600,\n",
    "    margin=dict(r=20, b=10, l=10, t=40)\n",
    ")\n",
    "\n",
    "fig.show()"
   ]
  },
  {
   "cell_type": "code",
   "execution_count": 19,
   "id": "e4f702e0",
   "metadata": {},
   "outputs": [
    {
     "data": {
      "application/vnd.plotly.v1+json": {
       "config": {
        "plotlyServerURL": "https://plot.ly"
       },
       "data": [
        {
         "hoverinfo": "text",
         "marker": {
          "color": [
           "blue",
           "blue",
           "blue",
           "blue",
           "green",
           "green",
           "green",
           "green",
           "green",
           "green",
           "green",
           "green",
           "green",
           "green",
           "green",
           "green",
           "green",
           "green",
           "green",
           "green",
           "green",
           "green",
           "green",
           "red",
           "red",
           "red",
           "red",
           "red",
           "red",
           "red",
           "red",
           "red",
           "red",
           "red",
           "red",
           "red",
           "brown",
           "brown",
           "brown",
           "brown",
           "brown",
           "brown",
           "brown",
           "brown",
           "brown",
           "brown",
           "brown",
           "brown",
           "brown",
           "brown",
           "brown",
           "brown",
           "black",
           "black",
           "black",
           "black",
           "black",
           "black",
           "black",
           "black",
           "black",
           "black",
           "black",
           "black",
           "black",
           "black",
           "black",
           "black",
           "black",
           "black"
          ],
          "opacity": 0.8,
          "size": 5
         },
         "mode": "markers",
         "text": [
          "Type: Almora<br>Text: ## Kumaon Hills Characteristics...",
          "Type: Almora<br>Text: Almora district represents the heart of the Kumaon Hills region, characterized by a complex ridge-va...",
          "Type: Almora<br>Text: ## Soil Conservation Practices...",
          "Type: Almora<br>Text: Traditional soil conservation methods in Almora district include the chaur system of terrace farming...",
          "Type: Bageshwar<br>Text: ## Glacial Influence...",
          "Type: Bageshwar<br>Text: The Pindari Glacier, with a length of 3.2 kilometers, represents one of the most accessible glacial ...",
          "Type: Bageshwar<br>Text: ## River Confluence Dynamics...",
          "Type: Bageshwar<br>Text: Bageshwar district derives its name and much of its hydrological character from the confluence of th...",
          "Type: Chamoli<br>Text: ##  Advanced Risk Zonation\n\nRisk zonation within Chamoli district reflects the complex interaction b...",
          "Type: Chamoli<br>Text: The Pindar valley represents another extremely high-risk area where glacier retreat has created unst...",
          "Type: Chamoli<br>Text: Moderate-risk areas include lower elevation settlements that are far enough from direct glacial infl...",
          "Type: Chamoli<br>Text: ## Complex Meteorological Environment\n\nThe meteorological environment in Chamoli district is charact...",
          "Type: Chamoli<br>Text: Glacial influence on local climate patterns is profound and multifaceted. Katabatic winds flowing do...",
          "Type: Chamoli<br>Text: Extreme weather patterns in Chamoli result from the interaction of multiple atmospheric circulation ...",
          "Type: Chamoli<br>Text: ## Extreme Terrain Classification\n\nChamoli district encompasses 7,520 square kilometers of some of t...",
          "Type: Chamoli<br>Text: The district contains 47 peaks exceeding 6,000 meters in elevation, creating a landscape of extraord...",
          "Type: Chamoli<br>Text: Valley systems throughout Chamoli are characterized by their extreme depth and narrow width, with mo...",
          "Type: Chamoli<br>Text: ## Glacial Lake Inventory & GLOF Risk\n\n\nThe glacial lake inventory for Chamoli district reveals 341 ...",
          "Type: Chamoli<br>Text: The historical record of glacial lake outburst floods in Chamoli includes the devastating Gohna Lake...",
          "Type: Chamoli<br>Text: The 2021 Chamoli flash flood represents the most recent example of the complex interaction between g...",
          "Type: Champawat<br>Text: ## Agricultural and Development Patterns...",
          "Type: Champawat<br>Text: The Ram Ganga River acts as a border between Champawat and Pithoragarh districts, creating important...",
          "Type: Champawat<br>Text: ## Geographic and Demographic Profile...",
          "Type: Champawat<br>Text: Champawat district represents one of the eastern-most districts of Uttarakhand, strategically positi...",
          "Type: Champawat<br>Text: ## Lower Elevation Characteristics and Risk Profile\n\nChampawat district represents one of the lower ...",
          "Type: Champawat<br>Text: However, the district's elevation profile places it in a transitional zone where 69.32% of the total...",
          "Type: Champawat<br>Text: Flash flood risk represents the primary hydrological hazard concern rather than direct cloudburst im...",
          "Type: Dehradun<br>Text: ## Advanced Meteorological Profile...",
          "Type: Dehradun<br>Text: Dehradun's meteorological characteristics reflect its position at the transition between the subtrop...",
          "Type: Dehradun<br>Text: Temperature extremes in the district reflect both its elevation range and seasonal variations. The m...",
          "Type: Dehradun<br>Text: Humidity patterns show dramatic seasonal variations, ranging from 85-95% during the monsoon period w...",
          "Type: Dehradun<br>Text: Wind patterns across the district are influenced by both large-scale circulation patterns and local ...",
          "Type: Dehradun<br>Text: ## Cloudburst Risk Assessment\n\nBased on historical data and current understanding of atmospheric and...",
          "Type: Dehradun<br>Text: Prediction indicators specific to Dehradun district include orographic lifting effects on the southe...",
          "Type: Dehradun<br>Text: ## Detailed Topographical Profile\n\nDehradun district occupies a strategically important position in ...",
          "Type: Dehradun<br>Text: The famous Doon Valley forms the heart of the district, representing a classic intermontane valley t...",
          "Type: Dehradun<br>Text: Slope analysis across the district reveals a varied topographic profile that influences both settlem...",
          "Type: Dehradun<br>Text: ## Geological and Soil Classification\n\nThe geological foundation of Dehradun district comprises seve...",
          "Type: Dehradun<br>Text: The Doon Gravel formation represents Quaternary alluvium that has been deposited in the valley floor...",
          "Type: Dehradun<br>Text: Soil classification across the district reflects the interaction between geological parent materials...",
          "Type: Dehradun<br>Text: Soil characteristics vary significantly across the district but generally show pH values ranging fro...",
          "Type: Dehradun<br>Text: ##  Hydrological Network\n\nThe hydrological network of Dehradun district is dominated by the Yamuna r...",
          "Type: Dehradun<br>Text: The drainage density across the district averages 0.85 kilometers per square kilometer, indicating a...",
          "Type: Dehradun<br>Text: ## Urbanization and Land Use Impact\n\nUrbanization has significantly altered the natural landscape an...",
          "Type: Dehradun<br>Text: Forest cover still accounts for 1,016 square kilometers or 32.9% of the district, providing importan...",
          "Type: Dehradun<br>Text: The urban heat island effect has become increasingly pronounced in Dehradun city, with temperature d...",
          "Type: Haridwar<br>Text: ## Comprehensive Geographical Profile\n\n\nHaridwar district occupies a unique position in Uttarakhand'...",
          "Type: Haridwar<br>Text: The elevation range across the district is relatively modest compared to other areas of Uttarakhand,...",
          "Type: Haridwar<br>Text: The terrain classification shows that approximately 85% of the district consists of plains areas, wi...",
          "Type: Haridwar<br>Text: ## Geological Foundation\n\nThe geological foundation of Haridwar district consists primarily of Quate...",
          "Type: Haridwar<br>Text: Soil types reflect this geological foundation, with new alluvium comprising approximately 70% of the...",
          "Type: Haridwar<br>Text: The fertility of alluvial soils is generally high due to their nutrient-rich composition, particular...",
          "Type: Haridwar<br>Text: ## Meteorological Characteristics\n\nThe meteorological characteristics of Haridwar district reflect i...",
          "Type: Haridwar<br>Text: Monsoon dependency is pronounced, with 82% of annual rainfall occurring during the June through Sept...",
          "Type: Haridwar<br>Text: Temperature profiles show the influence of both continental and subtropical climate characteristics....",
          "Type: Haridwar<br>Text: Humidity variations across the year range from 25% during the driest periods to 90% during peak mons...",
          "Type: Haridwar<br>Text: ## Risk Factors\n\nCloudburst risk in Haridwar district is classified as low to moderate due to the li...",
          "Type: Haridwar<br>Text: ## River Systems & Hydrology\n\nThe hydrological systems of Haridwar district are dominated by the Gan...",
          "Type: Haridwar<br>Text: Canal systems, including the Upper Ganges Canal and the Roorkee canal system, represent significant ...",
          "Type: Major_Historical_Events<br>Text: # Major Historical Events (1970–2025)\n\n## 2025 Uttarkashi Flash Flood (Dharali / Kheer Ganga)\n\nOn **...",
          "Type: Major_Historical_Events<br>Text: All converged to produce devastating floods that swept through the narrow valleys.\n\n### Impacts\n- **...",
          "Type: Major_Historical_Events<br>Text: ### Significance\nThe Uttarkashi flash flood highlights the compounding role of climate change in amp...",
          "Type: Major_Historical_Events<br>Text: ### Date & Location\n- **Event date**: 7 February 2021  \n- **District**: Chamoli, Uttarakhand (outer ...",
          "Type: Major_Historical_Events<br>Text: ### Casualties & Missing\n- **Confirmed fatalities**: ~83 people  \n- **Missing / presumed missing**: ...",
          "Type: Major_Historical_Events<br>Text: ### Response / Relief\n- **NDRF, Indian Army, and Air Force** deployed for rescue operations.  \n- Eme...",
          "Type: Major_Historical_Events<br>Text: ---\n\n## 2013 Kedarnath Catastrophe\n\nBetween **15–17 June 2013**, the Kedarnath region of Rudraprayag...",
          "Type: Major_Historical_Events<br>Text: ### Impacts\n- **Casualties**:  \n  - Official death toll: ~5,700 presumed dead  \n  - Government compi...",
          "Type: Major_Historical_Events<br>Text: ### Significance\nThe Kedarnath tragedy remains the benchmark Himalayan disaster — a defining example...",
          "Type: Major_Historical_Events<br>Text: ### Casualties\n- Reports vary, citing **19 to 39 fatalities** across different government and media ...",
          "Type: Nainital<br>Text: ## Lake District Characteristics and Geographic Profile...",
          "Type: Nainital<br>Text: Nainital district covers a total geographical area of 4,251 square kilometers and is geographically ...",
          "Type: Nainital<br>Text: ## Lake Effect and Microclimate Impacts...",
          "Type: Nainital<br>Text: The presence of multiple water bodies can modify local temperature and humidity patterns in ways tha...",
          "Type: Nainital<br>Text: ## Tourism and Urban Development Impacts...",
          "Type: Nainital<br>Text: Tourism infrastructure throughout the district creates seasonal concentrations of population that ma...",
          "Type: Pauri Garhwal<br>Text: ## Forest Fire Interaction...",
          "Type: Pauri Garhwal<br>Text: Forest fire frequency in Pauri Garhwal district has shown an increasing trend over recent decades, w...",
          "Type: Pauri Garhwal<br>Text: ## Ridge Settlement Vulnerability...",
          "Type: Pauri Garhwal<br>Text: Pauri Garhwal district exemplifies the traditional Himalayan settlement pattern where communities ar...",
          "Type: Pauri Garhwal<br>Text: ## Terraced Agriculture Impact...",
          "Type: Pauri Garhwal<br>Text: Traditional terraced agriculture systems cover approximately 67% of the district's cultivated area, ...",
          "Type: Pithoragarh<br>Text: ## Border Area Implications...",
          "Type: Pithoragarh<br>Text: The district's location along international borders with Tibet and Nepal creates unique challenges f...",
          "Type: Pithoragarh<br>Text: ## High Altitude Cloudbursts...",
          "Type: Pithoragarh<br>Text: High altitude cloudbursts in Pithoragarh district represent a unique category of extreme precipitati...",
          "Type: Pithoragarh<br>Text: ## Trans-Himalayan Characteristics...",
          "Type: Pithoragarh<br>Text: Pithoragarh district occupies a unique position in Uttarakhand's geography due to its location in th...",
          "Type: Rudraprayag<br>Text: ## Critical Risk Designation\n\nRudraprayag district holds the distinction of being classified by the ...",
          "Type: Rudraprayag<br>Text: Covering 1,984 square kilometers of mountainous terrain, Rudraprayag occupies the strategically crit...",
          "Type: Rudraprayag<br>Text: The district's reputation for extreme vulnerability stems not just from its physical characteristics...",
          "Type: Rudraprayag<br>Text: ## Extreme Topographical Vulnerability\n\nThe topographical characteristics of Rudraprayag district re...",
          "Type: Rudraprayag<br>Text: The remaining terrain includes 20% with steep slopes between 15 and 30 degrees and only 5% with gent...",
          "Type: Rudraprayag<br>Text: Valley characteristics throughout the district are uniformly challenging, with deep V-shaped valleys...",
          "Type: Rudraprayag<br>Text: Confluence amplification zones represent particular areas of extreme vulnerability where multiple ri...",
          "Type: Rudraprayag<br>Text: ## Geological Instability\n\n\nThe geological foundation of Rudraprayag district represents one of the ...",
          "Type: Rudraprayag<br>Text: Multiple active fault systems traverse the district, creating planes of weakness that predispose slo...",
          "Type: Rudraprayag<br>Text: Landslide statistics for the district are staggering, with 2,847 active landslides mapped and monito...",
          "Type: Rudraprayag<br>Text: ## Multi-Hazard Cascade Mechanisms\n\nThe 2013 Kedarnath event demonstrated the complex multi-hazard c...",
          "Type: Rudraprayag<br>Text: Dam breach floods, representing tertiary impacts, occurred when these temporary barriers were overto...",
          "Type: Rudraprayag<br>Text: Tertiary impacts extended far beyond the immediate disaster zone and persisted for years after the o...",
          "Type: Rudraprayag<br>Text: ## Predictive Model Parameters\n\nThe development of predictive models for extreme events in Rudrapray...",
          "Type: Rudraprayag<br>Text: Landslide initiation typically occurs when rainfall intensities reach 50 millimeters per hour sustai...",
          "Type: Rudraprayag<br>Text: Antecedent conditions play a crucial role in determining the susceptibility of slopes to failure dur...",
          "Type: Tehri Garhwal<br>Text: ## Geological Challenges...",
          "Type: Tehri Garhwal<br>Text: The creation of the Tehri reservoir has introduced new geological hazards and modified existing haza...",
          "Type: Tehri Garhwal<br>Text: ## Microclimate Modification...",
          "Type: Tehri Garhwal<br>Text: The presence of the large reservoir has created significant modifications to local microclimate cond...",
          "Type: Tehri Garhwal<br>Text: ## Reservoir-Modified Environment...",
          "Type: Tehri Garhwal<br>Text: Tehri Garhwal district occupies a unique position in Uttarakhand's risk landscape due to the presenc...",
          "Type: Tehri Garhwal<br>Text: ## Resettlement Impact on Vulnerability...",
          "Type: Tehri Garhwal<br>Text: The resettlement of 125,000 displaced people has created new patterns of vulnerability that may incr...",
          "Type: Udham Singh Nagar<br>Text: ## Agricultural and Industrial Development Profile...",
          "Type: Udham Singh Nagar<br>Text: The district is named in honor of the revered freedom fighter Shaheed Udham Singh and radiates with ...",
          "Type: Udham Singh Nagar<br>Text: ## Cultural and Social Complexity...",
          "Type: Udham Singh Nagar<br>Text: The district exemplifies 'Unity in Diversity' for which India is widely known, with different cultur...",
          "Type: Udham Singh Nagar<br>Text: ## Plains Transition Zone Characteristics...",
          "Type: Udham Singh Nagar<br>Text: Udham Singh Nagar district is situated in the lush Terai region of Uttarakhand and was established i...",
          "Type: Uttarkashi<br>Text: ## Advanced Meteorological Analysis...",
          "Type: Uttarkashi<br>Text: The meteorological conditions in Uttarkashi district represent some of the most extreme and variable...",
          "Type: Uttarkashi<br>Text: ## Comprehensive Risk Profile\n\n\nUttarkashi district represents the epicenter of cloudburst risk in U...",
          "Type: Uttarkashi<br>Text: The elevation spectrum across Uttarkashi is truly extraordinary, ranging from 1,000 meters above sea...",
          "Type: Uttarkashi<br>Text: Statistical analysis of cloudburst events across Uttarakhand reveals that 66% of all documented clou...",
          "Type: Uttarkashi<br>Text: ## Extreme Topographical Features\n\n\nThe topographical characteristics of Uttarkashi district are dom...",
          "Type: Uttarkashi<br>Text: The average gradient throughout the valley system ranges from 15 to 45 degrees, with many sections s...",
          "Type: Uttarkashi<br>Text: Convergence zones within the district represent particular areas of elevated risk where multiple val...",
          "Type: Uttarkashi<br>Text: The glacial influence throughout Uttarkashi district adds another layer of complexity and risk to th...",
          "Type: Uttarkashi<br>Text: ## Geological Vulnerability\n\nThe geological foundation of Uttarkashi district contributes significan...",
          "Type: Uttarkashi<br>Text: The presence of Gangotri Granite throughout much of the district creates additional complexity in th...",
          "Type: Uttarkashi<br>Text: Structural geological features add another dimension to the hazard profile, with the Main Central Th...",
          "Type: Uttarkashi<br>Text: Landslide susceptibility throughout Uttarkashi district is classified as very high, with 847 active ...",
          "Type: Uttarkashi<br>Text: ## Hydrological Complexity\n\nThe hydrological systems of Uttarkashi district are characterized by ext...",
          "Type: Uttarkashi<br>Text: The tributary network within the district adds layers of complexity to the hydrological system. The ...",
          "Type: Uttarkashi<br>Text: The presence of 86 glacial lakes within the district creates the potential for glacial lake outburst...",
          "Type: Uttarkashi<br>Text: ##  Predictive Indicators\n\nMeteorological precursors that may indicate elevated cloudburst risk in U...",
          "Type: Uttarkashi<br>Text: Critical threshold values for the district include rainfall intensities exceeding 80 millimeters per..."
         ],
         "type": "scatter3d",
         "x": {
          "bdata": "myBMwtOC9cGWH84/sKWYQQE8fMKKb5nCx5EcQt75KEIhj7LC0eODwrWIiMLLqXZCTtuhwuwUfUJOYYfCVPWpQs9wYcJuArHCdFvJwPhij8CJi8RAgSiJQlWdsMCxjz3CR0I3wrrFg0G4qKJBjnWnQmdaiMLcgoFCG+TKQiFs0UJbG9tB6g+AQu86i8Io6bzCqn3ewlvKQMLokdvCnPm+wOi3NUB8pwxC44KMQp7OS0LbGuxBmPqXQjEtJcLAoTXCHGpBQenCXcLtT8xAcIDVQTQNUcLeWt5ChrsuQqqhvULEo0xCwsvpQd4TTcA8jHdCXEEDQLlA0cFcCINBQc2hQIrJ2cHKsq3BdE7cwEpvHcLwIR1CooPXwVHAosISJVnCqpwCwNf7YEJcDmZASPHSwWPWEkLDxJ9CGIPXwAzPY0KUYChCEE6bQtMal8DruF9CdfcrQnxMTcI4iZzCGZV0wsfkf0JNU+3BHCrfQT+vq0KP8SnCH4lhQSmaSsIVAsHBWJUDwVYaHcK/p+5BKvscQk/JMMLVAgI/h9EIQDSHtcGnopTCo08Swgh9nsLFRlHC95vJwtAxjkIurslBRQOkwEznMcFR7vBBmFXQwd/j9cE8dTPC0M2xQqVkaEHYc5FBFYuaQLhTj0CkDlBCpqevQQOk1sKc47Y/VhjDwcDjHMJ0KmLBVw1awTdvI0I16NBB4xKOvk35CEK2uiRB",
          "dtype": "f4"
         },
         "y": {
          "bdata": "qeQqwV/BpkHFnnPC68CVwmP8p8K1QGpCas0SwV6DeUJaHihBrNkOQsTR8T7t0uZBLPF/wpuVN0ErXp9BRyg5QRwBEsJJhQ7B5mMEQnNuHkK2vDrC+7UvwqSvN8JwP0hC5ymIQidjBcKGw5LAeu+VwiwKh8GveOzB5UefwUDim0EP1MNBqPXDQbLPmj6lngpB3Xvqwtvv6cCX2AFCXSCUwnDMw8K0JfpAGzIsworrY8Es5QvCLAFWQLclN78+ejhCEhEoQlt2Bj+mE4bCATmiwqM8Yj8Mjd7BzRINwvEOjcDnlOXCYEOhQtLJhj5/Zn5Ceu6bQjua4sI7+fZCl/a0QqObvkIIfcBChw6IQsg2lUIdvbhCx49UwqWfKEJJ8ZzCGIKQwXV/38ElbIdCbSq1wpvlQ8C+DUBB65q1QR9iTsI1Z5fCHN43wvRswkL6upzCCEuPwvhF/MGnTmlCe0ZHQhnBsUK2S1NC6n4JwjdqWUL0b3nCfelcwQVUtUF8BbzBswmtQt7VkkJZCilC/Xm9Qfnfn0KQltnC9rKvwuRI/8GRSP3BsBWJwnXdYcL6zH3CpweXwcyME8FR+WpBWWUiwsaddcHg/y/C2DABPZGXQsIQs8NBRweCwnUHCkEG9lhCeloLQtv4/UFo7ldCp0vVwnkN68GGvl9CdOB6QXCkhkG11GrAmJxcQip9mUKneApCPCbWQGoH5UHUJ7HC",
          "dtype": "f4"
         },
         "z": {
          "bdata": "u+vNwJWqC8DhEk9BdDnDQaHz/8D9cIpBIovdQYdrEMEiOPg/E4t+QZcf1EEptW9BhZgywfp7XcBpSL7BQo/KwVsGI8I5V5/Bd6GEwpHNKcKDw9vBbMnMwjGjkMImepHCYNtgwizVPELRNfLBKrBxwDrHscL2xxc/TwHHwOHmaD8gPB9CUBmTwqQ5csIsDVrCXUNMQ2T6jEJ0HfNBOFebQr7CdUJzUtnCDdeLwrlTtELYU4tCsOB8wjN/icLFGdTBnknxQMyHt0K2A3JCTOKSQun8w8LEm5ZBNFgLwNbfFEE5qd7BRttbQey2xcKxmk3ClgAKwrAN80GXtKrBh+FbwSEiqsEksoFB0TIPwRAFkkJx2j/C7xyhwkmNXcKoi8dBMCPIQlGJFcL6E6fC/hRUwPHSf8JcVmtCFlOAwLLlCEIViOpBbBdaQozJh8IoiyLCOZuiwdOxsT9NuJnBW9BdQiuqMkCQI81Bc723wqU9Y8GBJirC375PQc96dEJFSv1BbSl0QjjiJEFNHjnCjuoOwq6LD0IYySDCxy/6wfcXhUIsaENCCV8YQnUW5kFIpXRCRzsyQgH7QkLg7wnArFQ4wkhsK8Fy6UjCpXr+wV/nmL8YEUvCdUOuwUGfikL14XhCwyOwQru8YkLUg0xCRm7jv/dhTz+73QlCahWKQtU7EEIMwBJC3Jh4QkAqEkI/DLnC5g1mwtLPjUICu2fC",
          "dtype": "f4"
         }
        }
       ],
       "layout": {
        "height": 700,
        "margin": {
         "b": 10,
         "l": 10,
         "r": 20,
         "t": 40
        },
        "scene": {
         "xaxis": {
          "title": {
           "text": "x"
          }
         },
         "yaxis": {
          "title": {
           "text": "y"
          }
         },
         "zaxis": {
          "title": {
           "text": "z"
          }
         }
        },
        "template": {
         "data": {
          "bar": [
           {
            "error_x": {
             "color": "#2a3f5f"
            },
            "error_y": {
             "color": "#2a3f5f"
            },
            "marker": {
             "line": {
              "color": "#E5ECF6",
              "width": 0.5
             },
             "pattern": {
              "fillmode": "overlay",
              "size": 10,
              "solidity": 0.2
             }
            },
            "type": "bar"
           }
          ],
          "barpolar": [
           {
            "marker": {
             "line": {
              "color": "#E5ECF6",
              "width": 0.5
             },
             "pattern": {
              "fillmode": "overlay",
              "size": 10,
              "solidity": 0.2
             }
            },
            "type": "barpolar"
           }
          ],
          "carpet": [
           {
            "aaxis": {
             "endlinecolor": "#2a3f5f",
             "gridcolor": "white",
             "linecolor": "white",
             "minorgridcolor": "white",
             "startlinecolor": "#2a3f5f"
            },
            "baxis": {
             "endlinecolor": "#2a3f5f",
             "gridcolor": "white",
             "linecolor": "white",
             "minorgridcolor": "white",
             "startlinecolor": "#2a3f5f"
            },
            "type": "carpet"
           }
          ],
          "choropleth": [
           {
            "colorbar": {
             "outlinewidth": 0,
             "ticks": ""
            },
            "type": "choropleth"
           }
          ],
          "contour": [
           {
            "colorbar": {
             "outlinewidth": 0,
             "ticks": ""
            },
            "colorscale": [
             [
              0,
              "#0d0887"
             ],
             [
              0.1111111111111111,
              "#46039f"
             ],
             [
              0.2222222222222222,
              "#7201a8"
             ],
             [
              0.3333333333333333,
              "#9c179e"
             ],
             [
              0.4444444444444444,
              "#bd3786"
             ],
             [
              0.5555555555555556,
              "#d8576b"
             ],
             [
              0.6666666666666666,
              "#ed7953"
             ],
             [
              0.7777777777777778,
              "#fb9f3a"
             ],
             [
              0.8888888888888888,
              "#fdca26"
             ],
             [
              1,
              "#f0f921"
             ]
            ],
            "type": "contour"
           }
          ],
          "contourcarpet": [
           {
            "colorbar": {
             "outlinewidth": 0,
             "ticks": ""
            },
            "type": "contourcarpet"
           }
          ],
          "heatmap": [
           {
            "colorbar": {
             "outlinewidth": 0,
             "ticks": ""
            },
            "colorscale": [
             [
              0,
              "#0d0887"
             ],
             [
              0.1111111111111111,
              "#46039f"
             ],
             [
              0.2222222222222222,
              "#7201a8"
             ],
             [
              0.3333333333333333,
              "#9c179e"
             ],
             [
              0.4444444444444444,
              "#bd3786"
             ],
             [
              0.5555555555555556,
              "#d8576b"
             ],
             [
              0.6666666666666666,
              "#ed7953"
             ],
             [
              0.7777777777777778,
              "#fb9f3a"
             ],
             [
              0.8888888888888888,
              "#fdca26"
             ],
             [
              1,
              "#f0f921"
             ]
            ],
            "type": "heatmap"
           }
          ],
          "histogram": [
           {
            "marker": {
             "pattern": {
              "fillmode": "overlay",
              "size": 10,
              "solidity": 0.2
             }
            },
            "type": "histogram"
           }
          ],
          "histogram2d": [
           {
            "colorbar": {
             "outlinewidth": 0,
             "ticks": ""
            },
            "colorscale": [
             [
              0,
              "#0d0887"
             ],
             [
              0.1111111111111111,
              "#46039f"
             ],
             [
              0.2222222222222222,
              "#7201a8"
             ],
             [
              0.3333333333333333,
              "#9c179e"
             ],
             [
              0.4444444444444444,
              "#bd3786"
             ],
             [
              0.5555555555555556,
              "#d8576b"
             ],
             [
              0.6666666666666666,
              "#ed7953"
             ],
             [
              0.7777777777777778,
              "#fb9f3a"
             ],
             [
              0.8888888888888888,
              "#fdca26"
             ],
             [
              1,
              "#f0f921"
             ]
            ],
            "type": "histogram2d"
           }
          ],
          "histogram2dcontour": [
           {
            "colorbar": {
             "outlinewidth": 0,
             "ticks": ""
            },
            "colorscale": [
             [
              0,
              "#0d0887"
             ],
             [
              0.1111111111111111,
              "#46039f"
             ],
             [
              0.2222222222222222,
              "#7201a8"
             ],
             [
              0.3333333333333333,
              "#9c179e"
             ],
             [
              0.4444444444444444,
              "#bd3786"
             ],
             [
              0.5555555555555556,
              "#d8576b"
             ],
             [
              0.6666666666666666,
              "#ed7953"
             ],
             [
              0.7777777777777778,
              "#fb9f3a"
             ],
             [
              0.8888888888888888,
              "#fdca26"
             ],
             [
              1,
              "#f0f921"
             ]
            ],
            "type": "histogram2dcontour"
           }
          ],
          "mesh3d": [
           {
            "colorbar": {
             "outlinewidth": 0,
             "ticks": ""
            },
            "type": "mesh3d"
           }
          ],
          "parcoords": [
           {
            "line": {
             "colorbar": {
              "outlinewidth": 0,
              "ticks": ""
             }
            },
            "type": "parcoords"
           }
          ],
          "pie": [
           {
            "automargin": true,
            "type": "pie"
           }
          ],
          "scatter": [
           {
            "fillpattern": {
             "fillmode": "overlay",
             "size": 10,
             "solidity": 0.2
            },
            "type": "scatter"
           }
          ],
          "scatter3d": [
           {
            "line": {
             "colorbar": {
              "outlinewidth": 0,
              "ticks": ""
             }
            },
            "marker": {
             "colorbar": {
              "outlinewidth": 0,
              "ticks": ""
             }
            },
            "type": "scatter3d"
           }
          ],
          "scattercarpet": [
           {
            "marker": {
             "colorbar": {
              "outlinewidth": 0,
              "ticks": ""
             }
            },
            "type": "scattercarpet"
           }
          ],
          "scattergeo": [
           {
            "marker": {
             "colorbar": {
              "outlinewidth": 0,
              "ticks": ""
             }
            },
            "type": "scattergeo"
           }
          ],
          "scattergl": [
           {
            "marker": {
             "colorbar": {
              "outlinewidth": 0,
              "ticks": ""
             }
            },
            "type": "scattergl"
           }
          ],
          "scattermap": [
           {
            "marker": {
             "colorbar": {
              "outlinewidth": 0,
              "ticks": ""
             }
            },
            "type": "scattermap"
           }
          ],
          "scattermapbox": [
           {
            "marker": {
             "colorbar": {
              "outlinewidth": 0,
              "ticks": ""
             }
            },
            "type": "scattermapbox"
           }
          ],
          "scatterpolar": [
           {
            "marker": {
             "colorbar": {
              "outlinewidth": 0,
              "ticks": ""
             }
            },
            "type": "scatterpolar"
           }
          ],
          "scatterpolargl": [
           {
            "marker": {
             "colorbar": {
              "outlinewidth": 0,
              "ticks": ""
             }
            },
            "type": "scatterpolargl"
           }
          ],
          "scatterternary": [
           {
            "marker": {
             "colorbar": {
              "outlinewidth": 0,
              "ticks": ""
             }
            },
            "type": "scatterternary"
           }
          ],
          "surface": [
           {
            "colorbar": {
             "outlinewidth": 0,
             "ticks": ""
            },
            "colorscale": [
             [
              0,
              "#0d0887"
             ],
             [
              0.1111111111111111,
              "#46039f"
             ],
             [
              0.2222222222222222,
              "#7201a8"
             ],
             [
              0.3333333333333333,
              "#9c179e"
             ],
             [
              0.4444444444444444,
              "#bd3786"
             ],
             [
              0.5555555555555556,
              "#d8576b"
             ],
             [
              0.6666666666666666,
              "#ed7953"
             ],
             [
              0.7777777777777778,
              "#fb9f3a"
             ],
             [
              0.8888888888888888,
              "#fdca26"
             ],
             [
              1,
              "#f0f921"
             ]
            ],
            "type": "surface"
           }
          ],
          "table": [
           {
            "cells": {
             "fill": {
              "color": "#EBF0F8"
             },
             "line": {
              "color": "white"
             }
            },
            "header": {
             "fill": {
              "color": "#C8D4E3"
             },
             "line": {
              "color": "white"
             }
            },
            "type": "table"
           }
          ]
         },
         "layout": {
          "annotationdefaults": {
           "arrowcolor": "#2a3f5f",
           "arrowhead": 0,
           "arrowwidth": 1
          },
          "autotypenumbers": "strict",
          "coloraxis": {
           "colorbar": {
            "outlinewidth": 0,
            "ticks": ""
           }
          },
          "colorscale": {
           "diverging": [
            [
             0,
             "#8e0152"
            ],
            [
             0.1,
             "#c51b7d"
            ],
            [
             0.2,
             "#de77ae"
            ],
            [
             0.3,
             "#f1b6da"
            ],
            [
             0.4,
             "#fde0ef"
            ],
            [
             0.5,
             "#f7f7f7"
            ],
            [
             0.6,
             "#e6f5d0"
            ],
            [
             0.7,
             "#b8e186"
            ],
            [
             0.8,
             "#7fbc41"
            ],
            [
             0.9,
             "#4d9221"
            ],
            [
             1,
             "#276419"
            ]
           ],
           "sequential": [
            [
             0,
             "#0d0887"
            ],
            [
             0.1111111111111111,
             "#46039f"
            ],
            [
             0.2222222222222222,
             "#7201a8"
            ],
            [
             0.3333333333333333,
             "#9c179e"
            ],
            [
             0.4444444444444444,
             "#bd3786"
            ],
            [
             0.5555555555555556,
             "#d8576b"
            ],
            [
             0.6666666666666666,
             "#ed7953"
            ],
            [
             0.7777777777777778,
             "#fb9f3a"
            ],
            [
             0.8888888888888888,
             "#fdca26"
            ],
            [
             1,
             "#f0f921"
            ]
           ],
           "sequentialminus": [
            [
             0,
             "#0d0887"
            ],
            [
             0.1111111111111111,
             "#46039f"
            ],
            [
             0.2222222222222222,
             "#7201a8"
            ],
            [
             0.3333333333333333,
             "#9c179e"
            ],
            [
             0.4444444444444444,
             "#bd3786"
            ],
            [
             0.5555555555555556,
             "#d8576b"
            ],
            [
             0.6666666666666666,
             "#ed7953"
            ],
            [
             0.7777777777777778,
             "#fb9f3a"
            ],
            [
             0.8888888888888888,
             "#fdca26"
            ],
            [
             1,
             "#f0f921"
            ]
           ]
          },
          "colorway": [
           "#636efa",
           "#EF553B",
           "#00cc96",
           "#ab63fa",
           "#FFA15A",
           "#19d3f3",
           "#FF6692",
           "#B6E880",
           "#FF97FF",
           "#FECB52"
          ],
          "font": {
           "color": "#2a3f5f"
          },
          "geo": {
           "bgcolor": "white",
           "lakecolor": "white",
           "landcolor": "#E5ECF6",
           "showlakes": true,
           "showland": true,
           "subunitcolor": "white"
          },
          "hoverlabel": {
           "align": "left"
          },
          "hovermode": "closest",
          "mapbox": {
           "style": "light"
          },
          "paper_bgcolor": "white",
          "plot_bgcolor": "#E5ECF6",
          "polar": {
           "angularaxis": {
            "gridcolor": "white",
            "linecolor": "white",
            "ticks": ""
           },
           "bgcolor": "#E5ECF6",
           "radialaxis": {
            "gridcolor": "white",
            "linecolor": "white",
            "ticks": ""
           }
          },
          "scene": {
           "xaxis": {
            "backgroundcolor": "#E5ECF6",
            "gridcolor": "white",
            "gridwidth": 2,
            "linecolor": "white",
            "showbackground": true,
            "ticks": "",
            "zerolinecolor": "white"
           },
           "yaxis": {
            "backgroundcolor": "#E5ECF6",
            "gridcolor": "white",
            "gridwidth": 2,
            "linecolor": "white",
            "showbackground": true,
            "ticks": "",
            "zerolinecolor": "white"
           },
           "zaxis": {
            "backgroundcolor": "#E5ECF6",
            "gridcolor": "white",
            "gridwidth": 2,
            "linecolor": "white",
            "showbackground": true,
            "ticks": "",
            "zerolinecolor": "white"
           }
          },
          "shapedefaults": {
           "line": {
            "color": "#2a3f5f"
           }
          },
          "ternary": {
           "aaxis": {
            "gridcolor": "white",
            "linecolor": "white",
            "ticks": ""
           },
           "baxis": {
            "gridcolor": "white",
            "linecolor": "white",
            "ticks": ""
           },
           "bgcolor": "#E5ECF6",
           "caxis": {
            "gridcolor": "white",
            "linecolor": "white",
            "ticks": ""
           }
          },
          "title": {
           "x": 0.05
          },
          "xaxis": {
           "automargin": true,
           "gridcolor": "white",
           "linecolor": "white",
           "ticks": "",
           "title": {
            "standoff": 15
           },
           "zerolinecolor": "white",
           "zerolinewidth": 2
          },
          "yaxis": {
           "automargin": true,
           "gridcolor": "white",
           "linecolor": "white",
           "ticks": "",
           "title": {
            "standoff": 15
           },
           "zerolinecolor": "white",
           "zerolinewidth": 2
          }
         }
        },
        "title": {
         "text": "3D Chroma Vector Store Visualization"
        },
        "width": 900
       }
      }
     },
     "metadata": {},
     "output_type": "display_data"
    }
   ],
   "source": [
    "# Let's try 3D!\n",
    "\n",
    "tsne = TSNE(n_components=3, random_state=42)\n",
    "reduced_vectors = tsne.fit_transform(vectors)\n",
    "\n",
    "# Create the 3D scatter plot\n",
    "fig = go.Figure(data=[go.Scatter3d(\n",
    "    x=reduced_vectors[:, 0],\n",
    "    y=reduced_vectors[:, 1],\n",
    "    z=reduced_vectors[:, 2],\n",
    "    mode='markers',\n",
    "    marker=dict(size=5, color=colors, opacity=0.8),\n",
    "    text=[f\"Type: {t}<br>Text: {d[:100]}...\" for t, d in zip(doc_types, documents)],\n",
    "    hoverinfo='text'\n",
    ")])\n",
    "\n",
    "fig.update_layout(\n",
    "    title='3D Chroma Vector Store Visualization',\n",
    "    scene=dict(xaxis_title='x', yaxis_title='y', zaxis_title='z'),\n",
    "    width=900,\n",
    "    height=700,\n",
    "    margin=dict(r=20, b=10, l=10, t=40)\n",
    ")\n",
    "\n",
    "fig.show()"
   ]
  },
  {
   "cell_type": "code",
   "execution_count": null,
   "id": "bbf19700",
   "metadata": {},
   "outputs": [],
   "source": []
  },
  {
   "cell_type": "code",
   "execution_count": null,
   "id": "76e4f512",
   "metadata": {},
   "outputs": [],
   "source": []
  }
 ],
 "metadata": {
  "kernelspec": {
   "display_name": "venv",
   "language": "python",
   "name": "python3"
  },
  "language_info": {
   "codemirror_mode": {
    "name": "ipython",
    "version": 3
   },
   "file_extension": ".py",
   "mimetype": "text/x-python",
   "name": "python",
   "nbconvert_exporter": "python",
   "pygments_lexer": "ipython3",
   "version": "3.13.5"
  }
 },
 "nbformat": 4,
 "nbformat_minor": 5
}
